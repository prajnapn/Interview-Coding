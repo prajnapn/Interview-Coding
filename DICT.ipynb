{
 "cells": [
  {
   "cell_type": "markdown",
   "id": "c8ae0829",
   "metadata": {},
   "source": [
    "### Merge Two Dictionaries"
   ]
  },
  {
   "cell_type": "code",
   "execution_count": 39,
   "id": "a50d7edf",
   "metadata": {},
   "outputs": [],
   "source": [
    "dict1 = {'country':'India','capital':'Delhi'}\n",
    "dict2 = {'currency':'Rupee'}"
   ]
  },
  {
   "cell_type": "code",
   "execution_count": 40,
   "id": "4413f990",
   "metadata": {},
   "outputs": [
    {
     "name": "stdout",
     "output_type": "stream",
     "text": [
      "{'country': 'India', 'capital': 'Delhi', 'currency': 'Rupee'}\n"
     ]
    }
   ],
   "source": [
    "#Method1 to merge 2 dictionary\n",
    "z = dict1 | dict2\n",
    "print(z)"
   ]
  },
  {
   "cell_type": "code",
   "execution_count": 41,
   "id": "78255ca9",
   "metadata": {},
   "outputs": [
    {
     "name": "stdout",
     "output_type": "stream",
     "text": [
      "{'country': 'India', 'capital': 'Delhi', 'currency': 'Rupee'}\n"
     ]
    }
   ],
   "source": [
    "#Method2 to merge 2 dictionary\n",
    "dict3 = {**dict1,**dict2}\n",
    "print(dict3)"
   ]
  },
  {
   "cell_type": "code",
   "execution_count": 42,
   "id": "1404a6d6",
   "metadata": {},
   "outputs": [
    {
     "name": "stdout",
     "output_type": "stream",
     "text": [
      "{'country': 'India', 'capital': 'Delhi', 'currency': 'Rupee'}\n"
     ]
    }
   ],
   "source": [
    "#Method3 to merge 2 dictionary\n",
    "def merge_2_dict(x,y):\n",
    "    z = x.copy()\n",
    "    z.update(y)\n",
    "    return z\n",
    "\n",
    "lat_dict = merge_2_dict(dict1,dict2)\n",
    "print(lat_dict)"
   ]
  },
  {
   "cell_type": "markdown",
   "id": "c41cb96f",
   "metadata": {},
   "source": [
    "### Check if a Key Exists in a Dictionary"
   ]
  },
  {
   "cell_type": "code",
   "execution_count": 43,
   "id": "84c26cf8",
   "metadata": {},
   "outputs": [
    {
     "data": {
      "text/plain": [
       "True"
      ]
     },
     "execution_count": 43,
     "metadata": {},
     "output_type": "execute_result"
    }
   ],
   "source": [
    "'currency' in dict2"
   ]
  },
  {
   "cell_type": "code",
   "execution_count": 44,
   "id": "a5bb141e",
   "metadata": {},
   "outputs": [
    {
     "data": {
      "text/plain": [
       "False"
      ]
     },
     "execution_count": 44,
     "metadata": {},
     "output_type": "execute_result"
    }
   ],
   "source": [
    "'capital' in dict2"
   ]
  },
  {
   "cell_type": "markdown",
   "id": "f3bb6a11",
   "metadata": {},
   "source": [
    "### Remove an Item from a Dictionary"
   ]
  },
  {
   "cell_type": "code",
   "execution_count": 45,
   "id": "04f1dca0",
   "metadata": {},
   "outputs": [
    {
     "data": {
      "text/plain": [
       "{'country': 'India', 'capital': 'Delhi', 'currency': 'Rupee'}"
      ]
     },
     "execution_count": 45,
     "metadata": {},
     "output_type": "execute_result"
    }
   ],
   "source": [
    "lat_dict"
   ]
  },
  {
   "cell_type": "code",
   "execution_count": 46,
   "id": "c3c5540e",
   "metadata": {},
   "outputs": [
    {
     "data": {
      "text/plain": [
       "('currency', 'Rupee')"
      ]
     },
     "execution_count": 46,
     "metadata": {},
     "output_type": "execute_result"
    }
   ],
   "source": [
    "lat_dict.popitem()"
   ]
  },
  {
   "cell_type": "code",
   "execution_count": 47,
   "id": "560998cf",
   "metadata": {},
   "outputs": [
    {
     "data": {
      "text/plain": [
       "'Delhi'"
      ]
     },
     "execution_count": 47,
     "metadata": {},
     "output_type": "execute_result"
    }
   ],
   "source": [
    "lat_dict.pop('capital')"
   ]
  },
  {
   "cell_type": "code",
   "execution_count": 48,
   "id": "525ed8d5",
   "metadata": {},
   "outputs": [
    {
     "data": {
      "text/plain": [
       "{'country': 'India'}"
      ]
     },
     "execution_count": 48,
     "metadata": {},
     "output_type": "execute_result"
    }
   ],
   "source": [
    "lat_dict"
   ]
  },
  {
   "cell_type": "code",
   "execution_count": 49,
   "id": "090fbf06",
   "metadata": {},
   "outputs": [
    {
     "name": "stdout",
     "output_type": "stream",
     "text": [
      "1\n",
      "Missing Key\n"
     ]
    },
    {
     "ename": "KeyError",
     "evalue": "'d'",
     "output_type": "error",
     "traceback": [
      "\u001b[1;31m---------------------------------------------------------------------------\u001b[0m",
      "\u001b[1;31mKeyError\u001b[0m                                  Traceback (most recent call last)",
      "\u001b[1;32m~\\AppData\\Local\\Temp/ipykernel_876/565877049.py\u001b[0m in \u001b[0;36m<module>\u001b[1;34m\u001b[0m\n\u001b[0;32m      3\u001b[0m \u001b[0mprint\u001b[0m\u001b[1;33m(\u001b[0m\u001b[0mdict1\u001b[0m\u001b[1;33m.\u001b[0m\u001b[0mpop\u001b[0m\u001b[1;33m(\u001b[0m\u001b[1;34m'a'\u001b[0m\u001b[1;33m)\u001b[0m\u001b[1;33m)\u001b[0m\u001b[1;33m\u001b[0m\u001b[1;33m\u001b[0m\u001b[0m\n\u001b[0;32m      4\u001b[0m \u001b[0mprint\u001b[0m\u001b[1;33m(\u001b[0m\u001b[0mdict1\u001b[0m\u001b[1;33m.\u001b[0m\u001b[0mpop\u001b[0m\u001b[1;33m(\u001b[0m\u001b[1;34m'c'\u001b[0m\u001b[1;33m,\u001b[0m \u001b[1;34m'Missing Key'\u001b[0m\u001b[1;33m)\u001b[0m\u001b[1;33m)\u001b[0m\u001b[1;33m\u001b[0m\u001b[1;33m\u001b[0m\u001b[0m\n\u001b[1;32m----> 5\u001b[1;33m \u001b[0mprint\u001b[0m\u001b[1;33m(\u001b[0m\u001b[0mdict1\u001b[0m\u001b[1;33m.\u001b[0m\u001b[0mpop\u001b[0m\u001b[1;33m(\u001b[0m\u001b[1;34m'd'\u001b[0m\u001b[1;33m)\u001b[0m\u001b[1;33m)\u001b[0m\u001b[1;33m\u001b[0m\u001b[1;33m\u001b[0m\u001b[0m\n\u001b[0m",
      "\u001b[1;31mKeyError\u001b[0m: 'd'"
     ]
    }
   ],
   "source": [
    "dict1 = {'a': 1, 'b': 2}\n",
    "\n",
    "print(dict1.pop('a'))\n",
    "print(dict1.pop('c', 'Missing Key'))\n",
    "print(dict1.pop('d'))"
   ]
  },
  {
   "cell_type": "markdown",
   "id": "f6adee55",
   "metadata": {},
   "source": [
    "### Dictionary Comprehensions"
   ]
  },
  {
   "cell_type": "code",
   "execution_count": 51,
   "id": "53ac747f",
   "metadata": {},
   "outputs": [
    {
     "data": {
      "text/plain": [
       "{1: 1, 2: 4, 3: 9, 4: 16, 5: 25, 6: 36, 7: 49, 8: 64, 9: 81, 10: 100}"
      ]
     },
     "execution_count": 51,
     "metadata": {},
     "output_type": "execute_result"
    }
   ],
   "source": [
    "{i: i ** 2 for i in range(1,11)}"
   ]
  },
  {
   "cell_type": "markdown",
   "id": "578d44ee",
   "metadata": {},
   "source": [
    "### Drop empty items from dictionary"
   ]
  },
  {
   "cell_type": "code",
   "execution_count": 76,
   "id": "87e88407",
   "metadata": {},
   "outputs": [],
   "source": [
    "dict1 = {'a': 'apple', 'b': 'banana', 'c':None,'d':'grape','e':None,'f':'orange'}"
   ]
  },
  {
   "cell_type": "code",
   "execution_count": 77,
   "id": "e15e9f8d",
   "metadata": {},
   "outputs": [],
   "source": [
    "dict3 ={}\n",
    "for key,val in dict1.items():\n",
    "    if(val is not None):\n",
    "        dict3.update({key:val})\n",
    "    else:\n",
    "        continue\n",
    "    "
   ]
  },
  {
   "cell_type": "code",
   "execution_count": 78,
   "id": "c0b4dea3",
   "metadata": {},
   "outputs": [
    {
     "data": {
      "text/plain": [
       "{'a': 'apple', 'b': 'banana', 'd': 'grape', 'f': 'orange'}"
      ]
     },
     "execution_count": 78,
     "metadata": {},
     "output_type": "execute_result"
    }
   ],
   "source": [
    "dict3"
   ]
  },
  {
   "cell_type": "code",
   "execution_count": 80,
   "id": "5f8c50b3",
   "metadata": {},
   "outputs": [],
   "source": [
    "dict4 = {key:val for key,val in dict1.items() if val is not None}"
   ]
  },
  {
   "cell_type": "code",
   "execution_count": 81,
   "id": "72643ac8",
   "metadata": {},
   "outputs": [
    {
     "name": "stdout",
     "output_type": "stream",
     "text": [
      "{'a': 'apple', 'b': 'banana', 'd': 'grape', 'f': 'orange'}\n"
     ]
    }
   ],
   "source": [
    "print(dict4)"
   ]
  },
  {
   "cell_type": "markdown",
   "id": "9f643182",
   "metadata": {},
   "source": [
    "### Use Get Instead of the Dictionary Accessor"
   ]
  },
  {
   "cell_type": "code",
   "execution_count": 83,
   "id": "2d5943eb",
   "metadata": {},
   "outputs": [
    {
     "data": {
      "text/plain": [
       "{'a': 'apple', 'b': 'banana', 'd': 'grape', 'f': 'orange'}"
      ]
     },
     "execution_count": 83,
     "metadata": {},
     "output_type": "execute_result"
    }
   ],
   "source": [
    "dict4"
   ]
  },
  {
   "cell_type": "code",
   "execution_count": 84,
   "id": "432b9197",
   "metadata": {},
   "outputs": [
    {
     "data": {
      "text/plain": [
       "'apple'"
      ]
     },
     "execution_count": 84,
     "metadata": {},
     "output_type": "execute_result"
    }
   ],
   "source": [
    "dict4.get('a')"
   ]
  },
  {
   "cell_type": "code",
   "execution_count": 90,
   "id": "72ed7906",
   "metadata": {},
   "outputs": [
    {
     "name": "stdout",
     "output_type": "stream",
     "text": [
      "None\n"
     ]
    }
   ],
   "source": [
    "print(dict1.get('g'))"
   ]
  },
  {
   "cell_type": "code",
   "execution_count": 91,
   "id": "f0dc0c9e",
   "metadata": {},
   "outputs": [
    {
     "ename": "KeyError",
     "evalue": "'g'",
     "output_type": "error",
     "traceback": [
      "\u001b[1;31m---------------------------------------------------------------------------\u001b[0m",
      "\u001b[1;31mKeyError\u001b[0m                                  Traceback (most recent call last)",
      "\u001b[1;32m~\\AppData\\Local\\Temp/ipykernel_876/3496874322.py\u001b[0m in \u001b[0;36m<module>\u001b[1;34m\u001b[0m\n\u001b[1;32m----> 1\u001b[1;33m \u001b[0mprint\u001b[0m\u001b[1;33m(\u001b[0m\u001b[0mdict1\u001b[0m\u001b[1;33m[\u001b[0m\u001b[1;34m'g'\u001b[0m\u001b[1;33m]\u001b[0m\u001b[1;33m)\u001b[0m\u001b[1;33m\u001b[0m\u001b[1;33m\u001b[0m\u001b[0m\n\u001b[0m",
      "\u001b[1;31mKeyError\u001b[0m: 'g'"
     ]
    }
   ],
   "source": [
    "print(dict1['g'])"
   ]
  },
  {
   "cell_type": "markdown",
   "id": "7640fde5",
   "metadata": {},
   "source": [
    "### Filter a Dictionary Based on Values"
   ]
  },
  {
   "cell_type": "code",
   "execution_count": 92,
   "id": "23a8ad8d",
   "metadata": {},
   "outputs": [],
   "source": [
    "#filter values less than 170\n",
    "\n",
    "heights = {'John': 175, 'Jane': 150, 'Jim': 155, 'Matt': 170}"
   ]
  },
  {
   "cell_type": "code",
   "execution_count": 93,
   "id": "9c90f613",
   "metadata": {},
   "outputs": [],
   "source": [
    "filtered_dict = {}\n",
    "for key,val in heights.items():\n",
    "    if(val >= 170):\n",
    "        filtered_dict.update({key:val})\n",
    "    else:\n",
    "        continue"
   ]
  },
  {
   "cell_type": "code",
   "execution_count": 94,
   "id": "ddc9a95a",
   "metadata": {},
   "outputs": [
    {
     "data": {
      "text/plain": [
       "{'John': 175, 'Matt': 170}"
      ]
     },
     "execution_count": 94,
     "metadata": {},
     "output_type": "execute_result"
    }
   ],
   "source": [
    "filtered_dict"
   ]
  },
  {
   "cell_type": "code",
   "execution_count": 95,
   "id": "50c4c9d6",
   "metadata": {},
   "outputs": [],
   "source": [
    "fil_dict = {key:val for key,val in heights.items() if val >= 170}"
   ]
  },
  {
   "cell_type": "code",
   "execution_count": 96,
   "id": "78b9ffc4",
   "metadata": {},
   "outputs": [
    {
     "name": "stdout",
     "output_type": "stream",
     "text": [
      "{'John': 175, 'Matt': 170}\n"
     ]
    }
   ],
   "source": [
    "print(fil_dict)"
   ]
  },
  {
   "cell_type": "markdown",
   "id": "74afa4f0",
   "metadata": {},
   "source": [
    "### Delete keys/items from dictionary "
   ]
  },
  {
   "cell_type": "code",
   "execution_count": 97,
   "id": "f541bf64",
   "metadata": {},
   "outputs": [
    {
     "data": {
      "text/plain": [
       "{'John': 175, 'Matt': 170}"
      ]
     },
     "execution_count": 97,
     "metadata": {},
     "output_type": "execute_result"
    }
   ],
   "source": [
    "fil_dict"
   ]
  },
  {
   "cell_type": "code",
   "execution_count": 98,
   "id": "e288ccf0",
   "metadata": {},
   "outputs": [],
   "source": [
    "del fil_dict['John']"
   ]
  },
  {
   "cell_type": "code",
   "execution_count": 99,
   "id": "12ca1bd6",
   "metadata": {},
   "outputs": [
    {
     "data": {
      "text/plain": [
       "{'Matt': 170}"
      ]
     },
     "execution_count": 99,
     "metadata": {},
     "output_type": "execute_result"
    }
   ],
   "source": [
    "fil_dict"
   ]
  },
  {
   "cell_type": "code",
   "execution_count": 100,
   "id": "6c7b7b62",
   "metadata": {},
   "outputs": [
    {
     "data": {
      "text/plain": [
       "{'John': 175, 'Matt': 170}"
      ]
     },
     "execution_count": 100,
     "metadata": {},
     "output_type": "execute_result"
    }
   ],
   "source": [
    "filtered_dict"
   ]
  },
  {
   "cell_type": "code",
   "execution_count": 103,
   "id": "e0f0b7e1",
   "metadata": {},
   "outputs": [],
   "source": [
    "del filtered_dict['Matt']"
   ]
  },
  {
   "cell_type": "code",
   "execution_count": 104,
   "id": "6479e6cc",
   "metadata": {},
   "outputs": [
    {
     "data": {
      "text/plain": [
       "{'John': 175}"
      ]
     },
     "execution_count": 104,
     "metadata": {},
     "output_type": "execute_result"
    }
   ],
   "source": [
    "filtered_dict"
   ]
  },
  {
   "cell_type": "code",
   "execution_count": 105,
   "id": "34a5d8e3",
   "metadata": {},
   "outputs": [],
   "source": [
    "storyCount = {'is': 100,\n",
    "              'the': 90,\n",
    "              'Michael': 12,\n",
    "              'runs': 5}"
   ]
  },
  {
   "cell_type": "code",
   "execution_count": 108,
   "id": "20f4cad2",
   "metadata": {},
   "outputs": [
    {
     "data": {
      "text/plain": [
       "['is', 'the', 'Michael', 'runs']"
      ]
     },
     "execution_count": 108,
     "metadata": {},
     "output_type": "execute_result"
    }
   ],
   "source": [
    "list(storyCount.keys())"
   ]
  },
  {
   "cell_type": "code",
   "execution_count": 109,
   "id": "89ab8bc0",
   "metadata": {},
   "outputs": [
    {
     "data": {
      "text/plain": [
       "[100, 90, 12, 5]"
      ]
     },
     "execution_count": 109,
     "metadata": {},
     "output_type": "execute_result"
    }
   ],
   "source": [
    "list(storyCount.values())"
   ]
  },
  {
   "cell_type": "code",
   "execution_count": 111,
   "id": "6c79b996",
   "metadata": {},
   "outputs": [
    {
     "data": {
      "text/plain": [
       "[('is', 100), ('the', 90), ('Michael', 12), ('runs', 5)]"
      ]
     },
     "execution_count": 111,
     "metadata": {},
     "output_type": "execute_result"
    }
   ],
   "source": [
    "list(storyCount.items())"
   ]
  }
 ],
 "metadata": {
  "kernelspec": {
   "display_name": "Python 3 (ipykernel)",
   "language": "python",
   "name": "python3"
  },
  "language_info": {
   "codemirror_mode": {
    "name": "ipython",
    "version": 3
   },
   "file_extension": ".py",
   "mimetype": "text/x-python",
   "name": "python",
   "nbconvert_exporter": "python",
   "pygments_lexer": "ipython3",
   "version": "3.9.7"
  }
 },
 "nbformat": 4,
 "nbformat_minor": 5
}
