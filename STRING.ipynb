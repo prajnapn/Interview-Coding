{
 "cells": [
  {
   "cell_type": "markdown",
   "id": "46f684eb",
   "metadata": {},
   "source": [
    "### check if each word in a string begins with a capital letter"
   ]
  },
  {
   "cell_type": "code",
   "execution_count": 5,
   "id": "e760d76c",
   "metadata": {},
   "outputs": [],
   "source": [
    "Str1 = 'I Am Prajna'\n",
    "Str2 = 'prajna Is cool'"
   ]
  },
  {
   "cell_type": "code",
   "execution_count": 6,
   "id": "83afe465",
   "metadata": {},
   "outputs": [
    {
     "data": {
      "text/plain": [
       "True"
      ]
     },
     "execution_count": 6,
     "metadata": {},
     "output_type": "execute_result"
    }
   ],
   "source": [
    "Str1.istitle()"
   ]
  },
  {
   "cell_type": "code",
   "execution_count": 7,
   "id": "eaf229e9",
   "metadata": {},
   "outputs": [
    {
     "data": {
      "text/plain": [
       "False"
      ]
     },
     "execution_count": 7,
     "metadata": {},
     "output_type": "execute_result"
    }
   ],
   "source": [
    "Str2.istitle()"
   ]
  },
  {
   "cell_type": "markdown",
   "id": "29566717",
   "metadata": {},
   "source": [
    "### Check if a string contains a specific substring"
   ]
  },
  {
   "cell_type": "code",
   "execution_count": 9,
   "id": "ba747bb5",
   "metadata": {},
   "outputs": [
    {
     "data": {
      "text/plain": [
       "True"
      ]
     },
     "execution_count": 9,
     "metadata": {},
     "output_type": "execute_result"
    }
   ],
   "source": [
    "'prajna' in Str2"
   ]
  },
  {
   "cell_type": "code",
   "execution_count": 10,
   "id": "1ceb2f52",
   "metadata": {},
   "outputs": [
    {
     "data": {
      "text/plain": [
       "True"
      ]
     },
     "execution_count": 10,
     "metadata": {},
     "output_type": "execute_result"
    }
   ],
   "source": [
    "'Prajna' in Str1"
   ]
  },
  {
   "cell_type": "markdown",
   "id": "206a3236",
   "metadata": {},
   "source": [
    "### Find the index of the first occurrence of a substring in a string"
   ]
  },
  {
   "cell_type": "code",
   "execution_count": 11,
   "id": "bb4fc27f",
   "metadata": {},
   "outputs": [],
   "source": [
    "st1 ='prajna is an amazing cook, but she is more an amazing mother'"
   ]
  },
  {
   "cell_type": "markdown",
   "id": "ca9e935d",
   "metadata": {},
   "source": [
    "#### Gives first occurence of substring in a string"
   ]
  },
  {
   "cell_type": "code",
   "execution_count": 12,
   "id": "dc0cdcd3",
   "metadata": {},
   "outputs": [
    {
     "data": {
      "text/plain": [
       "13"
      ]
     },
     "execution_count": 12,
     "metadata": {},
     "output_type": "execute_result"
    }
   ],
   "source": [
    "st1.find('amazing') "
   ]
  },
  {
   "cell_type": "code",
   "execution_count": 13,
   "id": "5afcfb43",
   "metadata": {},
   "outputs": [
    {
     "data": {
      "text/plain": [
       "2"
      ]
     },
     "execution_count": 13,
     "metadata": {},
     "output_type": "execute_result"
    }
   ],
   "source": [
    "st1.count('amazing')"
   ]
  },
  {
   "cell_type": "code",
   "execution_count": 14,
   "id": "1b5cf73c",
   "metadata": {},
   "outputs": [
    {
     "data": {
      "text/plain": [
       "13"
      ]
     },
     "execution_count": 14,
     "metadata": {},
     "output_type": "execute_result"
    }
   ],
   "source": [
    "st1.index('amazing')"
   ]
  },
  {
   "cell_type": "markdown",
   "id": "556e7fd0",
   "metadata": {},
   "source": [
    "#### Gives last occurence of substring in a string"
   ]
  },
  {
   "cell_type": "code",
   "execution_count": 15,
   "id": "a33dc69c",
   "metadata": {},
   "outputs": [
    {
     "data": {
      "text/plain": [
       "46"
      ]
     },
     "execution_count": 15,
     "metadata": {},
     "output_type": "execute_result"
    }
   ],
   "source": [
    "st1.rfind('amazing')"
   ]
  },
  {
   "cell_type": "code",
   "execution_count": 16,
   "id": "f8881ed6",
   "metadata": {},
   "outputs": [
    {
     "data": {
      "text/plain": [
       "46"
      ]
     },
     "execution_count": 16,
     "metadata": {},
     "output_type": "execute_result"
    }
   ],
   "source": [
    "st1.rindex('amazing')"
   ]
  },
  {
   "cell_type": "markdown",
   "id": "53661f18",
   "metadata": {},
   "source": [
    "#### Difference between index and find"
   ]
  },
  {
   "cell_type": "code",
   "execution_count": 17,
   "id": "f6c720a1",
   "metadata": {},
   "outputs": [
    {
     "data": {
      "text/plain": [
       "-1"
      ]
     },
     "execution_count": 17,
     "metadata": {},
     "output_type": "execute_result"
    }
   ],
   "source": [
    "st1.find('car')"
   ]
  },
  {
   "cell_type": "code",
   "execution_count": 18,
   "id": "8f7b9573",
   "metadata": {},
   "outputs": [
    {
     "ename": "ValueError",
     "evalue": "substring not found",
     "output_type": "error",
     "traceback": [
      "\u001b[1;31m---------------------------------------------------------------------------\u001b[0m",
      "\u001b[1;31mValueError\u001b[0m                                Traceback (most recent call last)",
      "\u001b[1;32m~\\AppData\\Local\\Temp/ipykernel_5624/4008906839.py\u001b[0m in \u001b[0;36m<module>\u001b[1;34m\u001b[0m\n\u001b[1;32m----> 1\u001b[1;33m \u001b[0mst1\u001b[0m\u001b[1;33m.\u001b[0m\u001b[0mindex\u001b[0m\u001b[1;33m(\u001b[0m\u001b[1;34m'car'\u001b[0m\u001b[1;33m)\u001b[0m\u001b[1;33m\u001b[0m\u001b[1;33m\u001b[0m\u001b[0m\n\u001b[0m",
      "\u001b[1;31mValueError\u001b[0m: substring not found"
     ]
    }
   ],
   "source": [
    "st1.index('car')"
   ]
  },
  {
   "cell_type": "markdown",
   "id": "a16e0d92",
   "metadata": {},
   "source": [
    "### Count total number of characters in string"
   ]
  },
  {
   "cell_type": "code",
   "execution_count": 19,
   "id": "f6297649",
   "metadata": {},
   "outputs": [
    {
     "data": {
      "text/plain": [
       "60"
      ]
     },
     "execution_count": 19,
     "metadata": {},
     "output_type": "execute_result"
    }
   ],
   "source": [
    "len(st1)"
   ]
  },
  {
   "cell_type": "markdown",
   "id": "3fbda178",
   "metadata": {},
   "source": [
    "### Count total words in a string"
   ]
  },
  {
   "cell_type": "code",
   "execution_count": 21,
   "id": "393ea091",
   "metadata": {},
   "outputs": [],
   "source": [
    "li = st1.split(' ')"
   ]
  },
  {
   "cell_type": "code",
   "execution_count": 22,
   "id": "91e189b6",
   "metadata": {},
   "outputs": [
    {
     "data": {
      "text/plain": [
       "12"
      ]
     },
     "execution_count": 22,
     "metadata": {},
     "output_type": "execute_result"
    }
   ],
   "source": [
    "len(li)"
   ]
  },
  {
   "cell_type": "markdown",
   "id": "5ef5e381",
   "metadata": {},
   "source": [
    "### Count the number of a specific character in a string"
   ]
  },
  {
   "cell_type": "code",
   "execution_count": 25,
   "id": "d5022fd6",
   "metadata": {},
   "outputs": [
    {
     "data": {
      "text/plain": [
       "8"
      ]
     },
     "execution_count": 25,
     "metadata": {},
     "output_type": "execute_result"
    }
   ],
   "source": [
    "st1.count('a')"
   ]
  },
  {
   "cell_type": "markdown",
   "id": "f76d3374",
   "metadata": {},
   "source": [
    "### Capitalize first character of string"
   ]
  },
  {
   "cell_type": "code",
   "execution_count": 1,
   "id": "3a0cf2da",
   "metadata": {},
   "outputs": [
    {
     "data": {
      "text/plain": [
       "'Prajna is amazing'"
      ]
     },
     "execution_count": 1,
     "metadata": {},
     "output_type": "execute_result"
    }
   ],
   "source": [
    "st1 = 'prajna is amazing'\n",
    "st1.capitalize()"
   ]
  },
  {
   "cell_type": "markdown",
   "id": "1cdaa8e3",
   "metadata": {},
   "source": [
    "### Search a specific part of a string for a substring"
   ]
  },
  {
   "cell_type": "code",
   "execution_count": 2,
   "id": "5c72c71e",
   "metadata": {},
   "outputs": [
    {
     "data": {
      "text/plain": [
       "3"
      ]
     },
     "execution_count": 2,
     "metadata": {},
     "output_type": "execute_result"
    }
   ],
   "source": [
    "st1 = 'My Mom is best'\n",
    "st1.index('Mom')"
   ]
  },
  {
   "cell_type": "code",
   "execution_count": 4,
   "id": "b39d8815",
   "metadata": {},
   "outputs": [
    {
     "data": {
      "text/plain": [
       "42"
      ]
     },
     "execution_count": 4,
     "metadata": {},
     "output_type": "execute_result"
    }
   ],
   "source": [
    "st1 = 'My Mom is best.She has always remained as best'\n",
    "st1.index('best',25,60)"
   ]
  },
  {
   "cell_type": "markdown",
   "id": "6f1987ce",
   "metadata": {},
   "source": [
    "### f-string and format"
   ]
  },
  {
   "cell_type": "code",
   "execution_count": 9,
   "id": "92a2d9b2",
   "metadata": {},
   "outputs": [
    {
     "name": "stdout",
     "output_type": "stream",
     "text": [
      "prajna's maiden name is premalatha\n"
     ]
    }
   ],
   "source": [
    "name = 'prajna'\n",
    "maiden_name = 'premalatha'\n",
    "print(f\"{name}'s maiden name is {maiden_name}\")"
   ]
  },
  {
   "cell_type": "code",
   "execution_count": 12,
   "id": "585c2532",
   "metadata": {},
   "outputs": [
    {
     "name": "stdout",
     "output_type": "stream",
     "text": [
      "prajnas maiden name is premalatha\n"
     ]
    }
   ],
   "source": [
    "print('{}s maiden name is {}'.format(name,maiden_name))"
   ]
  },
  {
   "cell_type": "markdown",
   "id": "c0140b43",
   "metadata": {},
   "source": [
    "### Check if a string contains only numbers"
   ]
  },
  {
   "cell_type": "code",
   "execution_count": 13,
   "id": "28da3a49",
   "metadata": {},
   "outputs": [
    {
     "data": {
      "text/plain": [
       "True"
      ]
     },
     "execution_count": 13,
     "metadata": {},
     "output_type": "execute_result"
    }
   ],
   "source": [
    "st1 = '4500'\n",
    "st1.isnumeric()"
   ]
  },
  {
   "cell_type": "code",
   "execution_count": 14,
   "id": "dfde971a",
   "metadata": {},
   "outputs": [
    {
     "data": {
      "text/plain": [
       "False"
      ]
     },
     "execution_count": 14,
     "metadata": {},
     "output_type": "execute_result"
    }
   ],
   "source": [
    "st2 = '55k9'\n",
    "st2.isnumeric()"
   ]
  },
  {
   "cell_type": "markdown",
   "id": "d59434d9",
   "metadata": {},
   "source": [
    "### Split a string on a specific character"
   ]
  },
  {
   "cell_type": "code",
   "execution_count": 25,
   "id": "b8583c49",
   "metadata": {},
   "outputs": [
    {
     "name": "stdout",
     "output_type": "stream",
     "text": [
      "[['Prajna', 'is', 'best'], ['2022', 'is', 'her', 'year']]\n"
     ]
    }
   ],
   "source": [
    "st1 = 'Prajna is best.2022 is her year'\n",
    "lst = st1.split('.')\n",
    "lst1 = []\n",
    "for i in lst:\n",
    "    st2 = i.split(' ')\n",
    "    lst1.append(st2)\n",
    "print(lst1)"
   ]
  },
  {
   "cell_type": "markdown",
   "id": "36ffca5b",
   "metadata": {},
   "source": [
    "### Check if a string is composed of all lower case characters"
   ]
  },
  {
   "cell_type": "code",
   "execution_count": 26,
   "id": "5eef9e82",
   "metadata": {},
   "outputs": [
    {
     "data": {
      "text/plain": [
       "True"
      ]
     },
     "execution_count": 26,
     "metadata": {},
     "output_type": "execute_result"
    }
   ],
   "source": [
    "st3 = 'prajna is amazing'\n",
    "st3.islower()"
   ]
  },
  {
   "cell_type": "code",
   "execution_count": 27,
   "id": "5e615676",
   "metadata": {},
   "outputs": [
    {
     "data": {
      "text/plain": [
       "False"
      ]
     },
     "execution_count": 27,
     "metadata": {},
     "output_type": "execute_result"
    }
   ],
   "source": [
    "st4 = 'Prajna is amazing'\n",
    "st4.islower()"
   ]
  },
  {
   "cell_type": "markdown",
   "id": "77290330",
   "metadata": {},
   "source": [
    "### Check if the first character in a string is lowercase"
   ]
  },
  {
   "cell_type": "code",
   "execution_count": 31,
   "id": "9ed15d27",
   "metadata": {},
   "outputs": [
    {
     "data": {
      "text/plain": [
       "False"
      ]
     },
     "execution_count": 31,
     "metadata": {},
     "output_type": "execute_result"
    }
   ],
   "source": [
    "st3 = 'Prajna is amazing'\n",
    "st3[0].islower()"
   ]
  },
  {
   "cell_type": "code",
   "execution_count": 32,
   "id": "e2acb662",
   "metadata": {},
   "outputs": [
    {
     "data": {
      "text/plain": [
       "True"
      ]
     },
     "execution_count": 32,
     "metadata": {},
     "output_type": "execute_result"
    }
   ],
   "source": [
    "st3 = 'prajna is amazing'\n",
    "st3[0].islower()"
   ]
  },
  {
   "cell_type": "markdown",
   "id": "31a5f9fd",
   "metadata": {},
   "source": [
    "### Can an integer be added to a string in Python?"
   ]
  },
  {
   "cell_type": "code",
   "execution_count": 33,
   "id": "fb67182d",
   "metadata": {},
   "outputs": [
    {
     "ename": "TypeError",
     "evalue": "unsupported operand type(s) for +: 'int' and 'str'",
     "output_type": "error",
     "traceback": [
      "\u001b[1;31m---------------------------------------------------------------------------\u001b[0m",
      "\u001b[1;31mTypeError\u001b[0m                                 Traceback (most recent call last)",
      "\u001b[1;32m~\\AppData\\Local\\Temp/ipykernel_20716/548226165.py\u001b[0m in \u001b[0;36m<module>\u001b[1;34m\u001b[0m\n\u001b[0;32m      1\u001b[0m \u001b[0mst1\u001b[0m \u001b[1;33m=\u001b[0m \u001b[1;34m'prajna'\u001b[0m\u001b[1;33m\u001b[0m\u001b[1;33m\u001b[0m\u001b[0m\n\u001b[1;32m----> 2\u001b[1;33m \u001b[1;36m10\u001b[0m \u001b[1;33m+\u001b[0m \u001b[0mst1\u001b[0m\u001b[1;33m\u001b[0m\u001b[1;33m\u001b[0m\u001b[0m\n\u001b[0m",
      "\u001b[1;31mTypeError\u001b[0m: unsupported operand type(s) for +: 'int' and 'str'"
     ]
    }
   ],
   "source": [
    "st1 = 'prajna'\n",
    "10 + st1"
   ]
  },
  {
   "cell_type": "code",
   "execution_count": 34,
   "id": "2a4cd23d",
   "metadata": {},
   "outputs": [
    {
     "ename": "TypeError",
     "evalue": "can only concatenate str (not \"int\") to str",
     "output_type": "error",
     "traceback": [
      "\u001b[1;31m---------------------------------------------------------------------------\u001b[0m",
      "\u001b[1;31mTypeError\u001b[0m                                 Traceback (most recent call last)",
      "\u001b[1;32m~\\AppData\\Local\\Temp/ipykernel_20716/1851440042.py\u001b[0m in \u001b[0;36m<module>\u001b[1;34m\u001b[0m\n\u001b[1;32m----> 1\u001b[1;33m \u001b[0mst1\u001b[0m \u001b[1;33m+\u001b[0m \u001b[1;36m2\u001b[0m\u001b[1;33m\u001b[0m\u001b[1;33m\u001b[0m\u001b[0m\n\u001b[0m",
      "\u001b[1;31mTypeError\u001b[0m: can only concatenate str (not \"int\") to str"
     ]
    }
   ],
   "source": [
    "st1 + 2"
   ]
  },
  {
   "cell_type": "code",
   "execution_count": 35,
   "id": "df771fa9",
   "metadata": {},
   "outputs": [
    {
     "data": {
      "text/plain": [
       "'prajnaprajna'"
      ]
     },
     "execution_count": 35,
     "metadata": {},
     "output_type": "execute_result"
    }
   ],
   "source": [
    "st1 * 2"
   ]
  },
  {
   "cell_type": "code",
   "execution_count": 40,
   "id": "ee9d83e8",
   "metadata": {},
   "outputs": [
    {
     "name": "stdout",
     "output_type": "stream",
     "text": [
      "[1, 2, 3, 4]\n",
      "[1, 2, 1, 2]\n"
     ]
    }
   ],
   "source": [
    "#check for list\n",
    "lst = [1,2]\n",
    "lst1 = [3,4]\n",
    "print(lst+lst1)\n",
    "print(lst*2)"
   ]
  },
  {
   "cell_type": "markdown",
   "id": "6f9af4c2",
   "metadata": {},
   "source": [
    "### Reverse the string hello world"
   ]
  },
  {
   "cell_type": "code",
   "execution_count": 41,
   "id": "b7e034e0",
   "metadata": {},
   "outputs": [
    {
     "data": {
      "text/plain": [
       "'dlroW olleH'"
      ]
     },
     "execution_count": 41,
     "metadata": {},
     "output_type": "execute_result"
    }
   ],
   "source": [
    "st = 'Hello World'\n",
    "st[::-1]"
   ]
  },
  {
   "cell_type": "code",
   "execution_count": 47,
   "id": "3417172e",
   "metadata": {
    "scrolled": true
   },
   "outputs": [
    {
     "data": {
      "text/plain": [
       "'dlroW olleH'"
      ]
     },
     "execution_count": 47,
     "metadata": {},
     "output_type": "execute_result"
    }
   ],
   "source": [
    "''.join(reversed(st))"
   ]
  },
  {
   "cell_type": "code",
   "execution_count": 48,
   "id": "9f7aec87",
   "metadata": {},
   "outputs": [
    {
     "data": {
      "text/plain": [
       "'emordnilap'"
      ]
     },
     "execution_count": 48,
     "metadata": {},
     "output_type": "execute_result"
    }
   ],
   "source": [
    "st2 = 'palindrome'\n",
    "''.join(reversed(st2))"
   ]
  },
  {
   "cell_type": "markdown",
   "id": "fc81921a",
   "metadata": {},
   "source": [
    "### Join a list of strings into a single string, delimited by hyphens"
   ]
  },
  {
   "cell_type": "code",
   "execution_count": 72,
   "id": "1906cb78",
   "metadata": {},
   "outputs": [
    {
     "data": {
      "text/plain": [
       "'prajna-baby-ekansh'"
      ]
     },
     "execution_count": 72,
     "metadata": {},
     "output_type": "execute_result"
    }
   ],
   "source": [
    "st1 = ['prajna','baby','ekansh']\n",
    "'-'.join(st1)"
   ]
  },
  {
   "cell_type": "markdown",
   "id": "f0ad876f",
   "metadata": {},
   "source": [
    "### Check if all characters in a string confirm to ASCII"
   ]
  },
  {
   "cell_type": "code",
   "execution_count": 73,
   "id": "f02555bd",
   "metadata": {},
   "outputs": [
    {
     "name": "stdout",
     "output_type": "stream",
     "text": [
      "False\n",
      "True\n"
     ]
    }
   ],
   "source": [
    "print( 'Â'.isascii() ) #=> False\n",
    "print( 'A'.isascii() ) #=> True"
   ]
  },
  {
   "cell_type": "markdown",
   "id": "18896ed6",
   "metadata": {},
   "source": [
    "### Uppercase or lowercase an entire string"
   ]
  },
  {
   "cell_type": "code",
   "execution_count": 74,
   "id": "2271955d",
   "metadata": {},
   "outputs": [
    {
     "data": {
      "text/plain": [
       "'PRAJNA'"
      ]
     },
     "execution_count": 74,
     "metadata": {},
     "output_type": "execute_result"
    }
   ],
   "source": [
    "st = 'Prajna'\n",
    "st.upper()"
   ]
  },
  {
   "cell_type": "code",
   "execution_count": 75,
   "id": "2e0a13b9",
   "metadata": {},
   "outputs": [
    {
     "data": {
      "text/plain": [
       "'prajna'"
      ]
     },
     "execution_count": 75,
     "metadata": {},
     "output_type": "execute_result"
    }
   ],
   "source": [
    "st.lower()"
   ]
  },
  {
   "cell_type": "markdown",
   "id": "d4a69094",
   "metadata": {},
   "source": [
    "### Uppercase first and last character of a string"
   ]
  },
  {
   "cell_type": "code",
   "execution_count": 79,
   "id": "a37cff0c",
   "metadata": {},
   "outputs": [
    {
     "data": {
      "text/plain": [
       "'Fish'"
      ]
     },
     "execution_count": 79,
     "metadata": {},
     "output_type": "execute_result"
    }
   ],
   "source": [
    "st = 'fish'\n",
    "st[0].upper()+st[1:3]+st[3].lower()"
   ]
  },
  {
   "cell_type": "code",
   "execution_count": 80,
   "id": "e6cba2e5",
   "metadata": {},
   "outputs": [
    {
     "data": {
      "text/plain": [
       "'Fish'"
      ]
     },
     "execution_count": 80,
     "metadata": {},
     "output_type": "execute_result"
    }
   ],
   "source": [
    "st[0].upper()+st[1:-1]+st[-1].lower()"
   ]
  },
  {
   "cell_type": "markdown",
   "id": "9b54f57d",
   "metadata": {},
   "source": [
    "###  Check if a string is all uppercase"
   ]
  },
  {
   "cell_type": "code",
   "execution_count": 81,
   "id": "caab0bbc",
   "metadata": {},
   "outputs": [
    {
     "data": {
      "text/plain": [
       "True"
      ]
     },
     "execution_count": 81,
     "metadata": {},
     "output_type": "execute_result"
    }
   ],
   "source": [
    "'Toronto'.isupper() #=> False\n",
    "'TORONTO'.isupper() #= True"
   ]
  },
  {
   "cell_type": "markdown",
   "id": "770403e7",
   "metadata": {},
   "source": [
    "### When would you use split lines"
   ]
  },
  {
   "cell_type": "code",
   "execution_count": 83,
   "id": "031aa345",
   "metadata": {},
   "outputs": [
    {
     "data": {
      "text/plain": [
       "['last year was bad', 'This year is amazing', 'I will be happy']"
      ]
     },
     "execution_count": 83,
     "metadata": {},
     "output_type": "execute_result"
    }
   ],
   "source": [
    "sentence = \"last year was bad\\nThis year is amazing\\nI will be happy\"\n",
    "sentence.splitlines()"
   ]
  },
  {
   "cell_type": "markdown",
   "id": "ce856220",
   "metadata": {},
   "source": [
    "### String Slicing"
   ]
  },
  {
   "cell_type": "code",
   "execution_count": 1,
   "id": "f933ddb2",
   "metadata": {},
   "outputs": [],
   "source": [
    "string = 'I like to eat apples'"
   ]
  },
  {
   "cell_type": "code",
   "execution_count": 2,
   "id": "0e847884",
   "metadata": {},
   "outputs": [
    {
     "data": {
      "text/plain": [
       "'I like'"
      ]
     },
     "execution_count": 2,
     "metadata": {},
     "output_type": "execute_result"
    }
   ],
   "source": [
    "string[:6]"
   ]
  },
  {
   "cell_type": "code",
   "execution_count": 3,
   "id": "375f482a",
   "metadata": {},
   "outputs": [
    {
     "data": {
      "text/plain": [
       "'apples'"
      ]
     },
     "execution_count": 3,
     "metadata": {},
     "output_type": "execute_result"
    }
   ],
   "source": [
    "string[14:]"
   ]
  },
  {
   "cell_type": "code",
   "execution_count": 10,
   "id": "134c501f",
   "metadata": {},
   "outputs": [
    {
     "data": {
      "text/plain": [
       "'selppa tae ot ekil I'"
      ]
     },
     "execution_count": 10,
     "metadata": {},
     "output_type": "execute_result"
    }
   ],
   "source": [
    "string[::-1]"
   ]
  },
  {
   "cell_type": "markdown",
   "id": "1f6299b0",
   "metadata": {},
   "source": [
    "### Convert an integer to a string"
   ]
  },
  {
   "cell_type": "code",
   "execution_count": 11,
   "id": "a232f0dd",
   "metadata": {},
   "outputs": [
    {
     "data": {
      "text/plain": [
       "'5'"
      ]
     },
     "execution_count": 11,
     "metadata": {},
     "output_type": "execute_result"
    }
   ],
   "source": [
    "int1 = 5\n",
    "str(int1)"
   ]
  },
  {
   "cell_type": "markdown",
   "id": "8dcc4e8f",
   "metadata": {},
   "source": [
    "### Check if a string contains only alphabet"
   ]
  },
  {
   "cell_type": "code",
   "execution_count": 13,
   "id": "ca244ee9",
   "metadata": {},
   "outputs": [
    {
     "data": {
      "text/plain": [
       "True"
      ]
     },
     "execution_count": 13,
     "metadata": {},
     "output_type": "execute_result"
    }
   ],
   "source": [
    "'on'.isalpha()"
   ]
  },
  {
   "cell_type": "code",
   "execution_count": 14,
   "id": "0c8ddfb2",
   "metadata": {},
   "outputs": [
    {
     "data": {
      "text/plain": [
       "False"
      ]
     },
     "execution_count": 14,
     "metadata": {},
     "output_type": "execute_result"
    }
   ],
   "source": [
    "'on1'.isalpha()"
   ]
  },
  {
   "cell_type": "markdown",
   "id": "6b248a8c",
   "metadata": {},
   "source": [
    "### Replace all instances of a substring in a string"
   ]
  },
  {
   "cell_type": "code",
   "execution_count": 18,
   "id": "175b1d09",
   "metadata": {},
   "outputs": [],
   "source": [
    "st1 = 'Prajna is a good being.She is good at all tasks she takes up'\n",
    "st1 = st1.replace('good','amazing')"
   ]
  },
  {
   "cell_type": "code",
   "execution_count": 19,
   "id": "e976b2a2",
   "metadata": {},
   "outputs": [
    {
     "data": {
      "text/plain": [
       "'Prajna is a amazing being.She is amazing at all tasks she takes up'"
      ]
     },
     "execution_count": 19,
     "metadata": {},
     "output_type": "execute_result"
    }
   ],
   "source": [
    "st1"
   ]
  },
  {
   "cell_type": "markdown",
   "id": "e53b1665",
   "metadata": {},
   "source": [
    "### Remove whitespace from the left, right or both sides of a string"
   ]
  },
  {
   "cell_type": "code",
   "execution_count": 1,
   "id": "5243f091",
   "metadata": {},
   "outputs": [],
   "source": [
    "str1 = ' I couldnt complete my task '"
   ]
  },
  {
   "cell_type": "code",
   "execution_count": 2,
   "id": "a8c6c17e",
   "metadata": {},
   "outputs": [
    {
     "data": {
      "text/plain": [
       "'I couldnt complete my task '"
      ]
     },
     "execution_count": 2,
     "metadata": {},
     "output_type": "execute_result"
    }
   ],
   "source": [
    "str1.lstrip()"
   ]
  },
  {
   "cell_type": "code",
   "execution_count": 3,
   "id": "a061b4de",
   "metadata": {},
   "outputs": [
    {
     "data": {
      "text/plain": [
       "' I couldnt complete my task'"
      ]
     },
     "execution_count": 3,
     "metadata": {},
     "output_type": "execute_result"
    }
   ],
   "source": [
    "str1.rstrip()"
   ]
  },
  {
   "cell_type": "code",
   "execution_count": 4,
   "id": "b20c8e02",
   "metadata": {},
   "outputs": [
    {
     "data": {
      "text/plain": [
       "'I couldnt complete my task'"
      ]
     },
     "execution_count": 4,
     "metadata": {},
     "output_type": "execute_result"
    }
   ],
   "source": [
    "str1.strip()"
   ]
  },
  {
   "cell_type": "markdown",
   "id": "d1f988a1",
   "metadata": {},
   "source": [
    "### Check if a string begins with or ends with a specific character?"
   ]
  },
  {
   "cell_type": "code",
   "execution_count": 5,
   "id": "d979d290",
   "metadata": {},
   "outputs": [
    {
     "data": {
      "text/plain": [
       "True"
      ]
     },
     "execution_count": 5,
     "metadata": {},
     "output_type": "execute_result"
    }
   ],
   "source": [
    "str1 = 'Prajna'\n",
    "str1.startswith('P')"
   ]
  },
  {
   "cell_type": "code",
   "execution_count": 6,
   "id": "bd8a9f01",
   "metadata": {},
   "outputs": [
    {
     "data": {
      "text/plain": [
       "True"
      ]
     },
     "execution_count": 6,
     "metadata": {},
     "output_type": "execute_result"
    }
   ],
   "source": [
    "str1.endswith('a')"
   ]
  },
  {
   "cell_type": "code",
   "execution_count": 7,
   "id": "5b57872d",
   "metadata": {},
   "outputs": [
    {
     "data": {
      "text/plain": [
       "False"
      ]
     },
     "execution_count": 7,
     "metadata": {},
     "output_type": "execute_result"
    }
   ],
   "source": [
    "str1.endswith('c')"
   ]
  },
  {
   "cell_type": "markdown",
   "id": "fbf5a043",
   "metadata": {},
   "source": [
    "### Encode a given string as ASCII"
   ]
  },
  {
   "cell_type": "code",
   "execution_count": 9,
   "id": "34748516",
   "metadata": {},
   "outputs": [],
   "source": [
    "st1 = 'Qwerty'"
   ]
  },
  {
   "cell_type": "code",
   "execution_count": 11,
   "id": "b792cf07",
   "metadata": {},
   "outputs": [
    {
     "data": {
      "text/plain": [
       "b'Qwerty'"
      ]
     },
     "execution_count": 11,
     "metadata": {},
     "output_type": "execute_result"
    }
   ],
   "source": [
    "st1.encode(encoding = 'ascii')"
   ]
  },
  {
   "cell_type": "markdown",
   "id": "b011aa79",
   "metadata": {},
   "source": [
    "### Check if all characters are whitespace characters"
   ]
  },
  {
   "cell_type": "code",
   "execution_count": 12,
   "id": "045593ed",
   "metadata": {},
   "outputs": [],
   "source": [
    "strr = 'Prajna'"
   ]
  },
  {
   "cell_type": "code",
   "execution_count": 13,
   "id": "08cdc87c",
   "metadata": {},
   "outputs": [
    {
     "data": {
      "text/plain": [
       "False"
      ]
     },
     "execution_count": 13,
     "metadata": {},
     "output_type": "execute_result"
    }
   ],
   "source": [
    "strr.isspace()"
   ]
  },
  {
   "cell_type": "code",
   "execution_count": 14,
   "id": "8282f805",
   "metadata": {},
   "outputs": [],
   "source": [
    "strr = '  '"
   ]
  },
  {
   "cell_type": "code",
   "execution_count": 15,
   "id": "bbb0915c",
   "metadata": {},
   "outputs": [
    {
     "data": {
      "text/plain": [
       "True"
      ]
     },
     "execution_count": 15,
     "metadata": {},
     "output_type": "execute_result"
    }
   ],
   "source": [
    "strr.isspace()"
   ]
  },
  {
   "cell_type": "markdown",
   "id": "ceb64b17",
   "metadata": {},
   "source": [
    "### What is the effect of multiplying a string by 3?"
   ]
  },
  {
   "cell_type": "code",
   "execution_count": 17,
   "id": "16307eb2",
   "metadata": {},
   "outputs": [
    {
     "data": {
      "text/plain": [
       "'PrajnaPrajnaPrajna'"
      ]
     },
     "execution_count": 17,
     "metadata": {},
     "output_type": "execute_result"
    }
   ],
   "source": [
    "strr = 'Prajna'\n",
    "strr * 3"
   ]
  },
  {
   "cell_type": "markdown",
   "id": "8b894934",
   "metadata": {},
   "source": [
    "### Capitalize the first character of each word in a string"
   ]
  },
  {
   "cell_type": "code",
   "execution_count": 18,
   "id": "076e7ee5",
   "metadata": {},
   "outputs": [],
   "source": [
    "strt = 'Prajna a fab women'"
   ]
  },
  {
   "cell_type": "code",
   "execution_count": 19,
   "id": "8fd8be88",
   "metadata": {},
   "outputs": [
    {
     "data": {
      "text/plain": [
       "'Prajna A Fab Women'"
      ]
     },
     "execution_count": 19,
     "metadata": {},
     "output_type": "execute_result"
    }
   ],
   "source": [
    "strt.title()"
   ]
  },
  {
   "cell_type": "markdown",
   "id": "3951265a",
   "metadata": {},
   "source": [
    "### Concatenate two strings"
   ]
  },
  {
   "cell_type": "code",
   "execution_count": 20,
   "id": "84767ca1",
   "metadata": {},
   "outputs": [],
   "source": [
    "str1 = 'prajna'\n",
    "str2 = 'Human'"
   ]
  },
  {
   "cell_type": "code",
   "execution_count": 21,
   "id": "d7c9721d",
   "metadata": {},
   "outputs": [
    {
     "data": {
      "text/plain": [
       "'prajna Human'"
      ]
     },
     "execution_count": 21,
     "metadata": {},
     "output_type": "execute_result"
    }
   ],
   "source": [
    "str1 + ' ' + str2"
   ]
  },
  {
   "cell_type": "markdown",
   "id": "65e37b6c",
   "metadata": {},
   "source": [
    "### Give an example of using the partition() function"
   ]
  },
  {
   "cell_type": "code",
   "execution_count": 24,
   "id": "0443a447",
   "metadata": {},
   "outputs": [],
   "source": [
    "str1 = 'meditation is the simplest tool one can recieve from unniverse'"
   ]
  },
  {
   "cell_type": "code",
   "execution_count": 25,
   "id": "ffc8b5a4",
   "metadata": {},
   "outputs": [
    {
     "data": {
      "text/plain": [
       "('meditation is the simplest tool ', 'one', ' can recieve from unniverse')"
      ]
     },
     "execution_count": 25,
     "metadata": {},
     "output_type": "execute_result"
    }
   ],
   "source": [
    "str1.partition('one')"
   ]
  },
  {
   "cell_type": "markdown",
   "id": "d2b3a40c",
   "metadata": {},
   "source": [
    "###  Give an example of using maketrans() and translate()"
   ]
  },
  {
   "cell_type": "code",
   "execution_count": 34,
   "id": "d86374f1",
   "metadata": {},
   "outputs": [],
   "source": [
    "str1 = 'meditation is the simplest tool one can recieve from unniverse'\n",
    "mapping = str.maketrans('one','who')"
   ]
  },
  {
   "cell_type": "code",
   "execution_count": 35,
   "id": "658cde64",
   "metadata": {},
   "outputs": [
    {
     "data": {
      "text/plain": [
       "'moditatiwh is tho simplost twwl who cah rociovo frwm uhhivorso'"
      ]
     },
     "execution_count": 35,
     "metadata": {},
     "output_type": "execute_result"
    }
   ],
   "source": [
    "str1.translate(mapping)"
   ]
  },
  {
   "cell_type": "markdown",
   "id": "016fb936",
   "metadata": {},
   "source": [
    "### Remove vowels from a string"
   ]
  },
  {
   "cell_type": "code",
   "execution_count": 39,
   "id": "feb506c1",
   "metadata": {},
   "outputs": [
    {
     "data": {
      "text/plain": [
       "'Hll wrld!'"
      ]
     },
     "execution_count": 39,
     "metadata": {},
     "output_type": "execute_result"
    }
   ],
   "source": [
    "string = 'Hello world!'\n",
    "\n",
    "vowels = ('a','e','i','o','u')\n",
    "\n",
    "''.join([c for c in string if c not in vowels])"
   ]
  },
  {
   "cell_type": "markdown",
   "id": "0c5fd999",
   "metadata": {},
   "source": [
    "### When would you use rfind()?"
   ]
  },
  {
   "cell_type": "code",
   "execution_count": 43,
   "id": "f864f610",
   "metadata": {},
   "outputs": [
    {
     "data": {
      "text/plain": [
       "58"
      ]
     },
     "execution_count": 43,
     "metadata": {},
     "output_type": "execute_result"
    }
   ],
   "source": [
    "story = 'The price is right said Bob.Bob is meeting lat. The price is right.'\n",
    "story.rfind('is')"
   ]
  },
  {
   "cell_type": "code",
   "execution_count": 44,
   "id": "0ad1546d",
   "metadata": {},
   "outputs": [
    {
     "data": {
      "text/plain": [
       "10"
      ]
     },
     "execution_count": 44,
     "metadata": {},
     "output_type": "execute_result"
    }
   ],
   "source": [
    "story.find('is')"
   ]
  },
  {
   "cell_type": "code",
   "execution_count": 45,
   "id": "03112574",
   "metadata": {},
   "outputs": [
    {
     "data": {
      "text/plain": [
       "32"
      ]
     },
     "execution_count": 45,
     "metadata": {},
     "output_type": "execute_result"
    }
   ],
   "source": [
    "story.find('is',20,)"
   ]
  },
  {
   "cell_type": "code",
   "execution_count": null,
   "id": "a7874e6b",
   "metadata": {},
   "outputs": [],
   "source": []
  }
 ],
 "metadata": {
  "kernelspec": {
   "display_name": "Python 3 (ipykernel)",
   "language": "python",
   "name": "python3"
  },
  "language_info": {
   "codemirror_mode": {
    "name": "ipython",
    "version": 3
   },
   "file_extension": ".py",
   "mimetype": "text/x-python",
   "name": "python",
   "nbconvert_exporter": "python",
   "pygments_lexer": "ipython3",
   "version": "3.9.7"
  }
 },
 "nbformat": 4,
 "nbformat_minor": 5
}
