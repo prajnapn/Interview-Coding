{
 "cells": [
  {
   "cell_type": "markdown",
   "id": "c556f4a8",
   "metadata": {},
   "source": [
    "### Check if a list contains an element"
   ]
  },
  {
   "cell_type": "code",
   "execution_count": 1,
   "id": "0db40b15",
   "metadata": {},
   "outputs": [],
   "source": [
    "li = [3,4,'praj',True]"
   ]
  },
  {
   "cell_type": "code",
   "execution_count": 2,
   "id": "edc11448",
   "metadata": {},
   "outputs": [
    {
     "data": {
      "text/plain": [
       "True"
      ]
     },
     "execution_count": 2,
     "metadata": {},
     "output_type": "execute_result"
    }
   ],
   "source": [
    "True in li"
   ]
  },
  {
   "cell_type": "code",
   "execution_count": 3,
   "id": "009e19a2",
   "metadata": {},
   "outputs": [
    {
     "data": {
      "text/plain": [
       "False"
      ]
     },
     "execution_count": 3,
     "metadata": {},
     "output_type": "execute_result"
    }
   ],
   "source": [
    "False in li"
   ]
  },
  {
   "cell_type": "markdown",
   "id": "b6bc57ea",
   "metadata": {},
   "source": [
    "### How to iterate over 2+ lists at the same time"
   ]
  },
  {
   "cell_type": "code",
   "execution_count": 7,
   "id": "7d8294e4",
   "metadata": {},
   "outputs": [],
   "source": [
    "li1 =['praj','nam','pri']\n",
    "li2 = [26,25,24]"
   ]
  },
  {
   "cell_type": "code",
   "execution_count": 10,
   "id": "ecef1739",
   "metadata": {},
   "outputs": [
    {
     "name": "stdout",
     "output_type": "stream",
     "text": [
      "Age of praj is 26\n",
      "Age of nam is 25\n",
      "Age of pri is 24\n"
     ]
    }
   ],
   "source": [
    "for i,j in zip(li1,li2):\n",
    "    print(f'Age of {i} is {j}')"
   ]
  },
  {
   "cell_type": "markdown",
   "id": "0b3c812b",
   "metadata": {},
   "source": [
    "### When to use List Vs Dictionary?"
   ]
  },
  {
   "cell_type": "markdown",
   "id": "a492ea30",
   "metadata": {},
   "source": [
    "List -- WHEN YOU WANT PRESERVE/STORE ORDER OF SOMETHING\n",
    "\n",
    "While both lists and dictionaries are ordered as of python 3.7, a list allows duplicate values while a dictionary doesn’t allow duplicate keys.\n",
    "\n",
    "Dictionary -- To count the occurence of something"
   ]
  },
  {
   "cell_type": "markdown",
   "id": "a9071a38",
   "metadata": {},
   "source": [
    "### Difference between append and extend"
   ]
  },
  {
   "cell_type": "code",
   "execution_count": 28,
   "id": "4ab35330",
   "metadata": {},
   "outputs": [
    {
     "name": "stdout",
     "output_type": "stream",
     "text": [
      "list [1, 2, 3] after appending becomes [1, 2, 3, [4, 5]]\n"
     ]
    }
   ],
   "source": [
    "import copy\n",
    "\n",
    "li = [1,2,3]\n",
    "\n",
    "lis = copy.deepcopy(li)\n",
    "\n",
    "li.append([4,5])\n",
    "\n",
    "print(f'list {lis} after appending becomes {li}')"
   ]
  },
  {
   "cell_type": "code",
   "execution_count": 29,
   "id": "747fd50a",
   "metadata": {},
   "outputs": [
    {
     "name": "stdout",
     "output_type": "stream",
     "text": [
      "list [1, 2, 3] after appending becomes [1, 2, 3, 4, 5]\n"
     ]
    }
   ],
   "source": [
    "li = [1,2,3]\n",
    "\n",
    "lis = copy.deepcopy(li)\n",
    "\n",
    "li.extend([4,5])\n",
    "\n",
    "print(f'list {lis} after appending becomes {li}')"
   ]
  },
  {
   "cell_type": "markdown",
   "id": "17eb7986",
   "metadata": {},
   "source": [
    "### What does del do?"
   ]
  },
  {
   "cell_type": "code",
   "execution_count": 35,
   "id": "d2d39803",
   "metadata": {},
   "outputs": [],
   "source": [
    "li = [1,2,3]"
   ]
  },
  {
   "cell_type": "code",
   "execution_count": 36,
   "id": "1a72a219",
   "metadata": {},
   "outputs": [],
   "source": [
    "del li[1]"
   ]
  },
  {
   "cell_type": "code",
   "execution_count": 37,
   "id": "be15361e",
   "metadata": {},
   "outputs": [
    {
     "data": {
      "text/plain": [
       "[1, 3]"
      ]
     },
     "execution_count": 37,
     "metadata": {},
     "output_type": "execute_result"
    }
   ],
   "source": [
    "li"
   ]
  },
  {
   "cell_type": "markdown",
   "id": "3379d5fb",
   "metadata": {},
   "source": [
    "### Difference between remove and pop"
   ]
  },
  {
   "cell_type": "code",
   "execution_count": 38,
   "id": "392e74f8",
   "metadata": {},
   "outputs": [],
   "source": [
    "li = [1,2,3]\n",
    "\n",
    "li.remove(2)"
   ]
  },
  {
   "cell_type": "code",
   "execution_count": 39,
   "id": "261a4a62",
   "metadata": {},
   "outputs": [
    {
     "data": {
      "text/plain": [
       "[1, 3]"
      ]
     },
     "execution_count": 39,
     "metadata": {},
     "output_type": "execute_result"
    }
   ],
   "source": [
    "li"
   ]
  },
  {
   "cell_type": "code",
   "execution_count": 40,
   "id": "b6700867",
   "metadata": {},
   "outputs": [
    {
     "data": {
      "text/plain": [
       "3"
      ]
     },
     "execution_count": 40,
     "metadata": {},
     "output_type": "execute_result"
    }
   ],
   "source": [
    "li.pop()"
   ]
  },
  {
   "cell_type": "code",
   "execution_count": 42,
   "id": "b6375cd3",
   "metadata": {},
   "outputs": [],
   "source": [
    "li.append(4)"
   ]
  },
  {
   "cell_type": "code",
   "execution_count": 43,
   "id": "5de50d74",
   "metadata": {},
   "outputs": [
    {
     "data": {
      "text/plain": [
       "[1, 4]"
      ]
     },
     "execution_count": 43,
     "metadata": {},
     "output_type": "execute_result"
    }
   ],
   "source": [
    "li"
   ]
  },
  {
   "cell_type": "code",
   "execution_count": 46,
   "id": "e19868f2",
   "metadata": {},
   "outputs": [
    {
     "data": {
      "text/plain": [
       "1"
      ]
     },
     "execution_count": 46,
     "metadata": {},
     "output_type": "execute_result"
    }
   ],
   "source": [
    "li.pop(0)"
   ]
  },
  {
   "cell_type": "code",
   "execution_count": 47,
   "id": "19b3d69d",
   "metadata": {},
   "outputs": [
    {
     "data": {
      "text/plain": [
       "[4]"
      ]
     },
     "execution_count": 47,
     "metadata": {},
     "output_type": "execute_result"
    }
   ],
   "source": [
    "li"
   ]
  },
  {
   "cell_type": "markdown",
   "id": "201fe3ec",
   "metadata": {},
   "source": [
    "#### remove deletes element from the list by using the element value whereas pop deleted element from list by using its index value"
   ]
  },
  {
   "cell_type": "markdown",
   "id": "5cbb8648",
   "metadata": {},
   "source": [
    "### Remove duplicates from list"
   ]
  },
  {
   "cell_type": "code",
   "execution_count": 50,
   "id": "26816146",
   "metadata": {},
   "outputs": [],
   "source": [
    "li = [4,5,5,6,5]"
   ]
  },
  {
   "cell_type": "code",
   "execution_count": 55,
   "id": "22154ad2",
   "metadata": {},
   "outputs": [
    {
     "data": {
      "text/plain": [
       "[4, 5, 6]"
      ]
     },
     "execution_count": 55,
     "metadata": {},
     "output_type": "execute_result"
    }
   ],
   "source": [
    "list(set(li))"
   ]
  },
  {
   "cell_type": "markdown",
   "id": "34c7f6d7",
   "metadata": {},
   "source": [
    "### Find the index of the 1st matching element"
   ]
  },
  {
   "cell_type": "code",
   "execution_count": 67,
   "id": "f8875034",
   "metadata": {},
   "outputs": [
    {
     "data": {
      "text/plain": [
       "2"
      ]
     },
     "execution_count": 67,
     "metadata": {},
     "output_type": "execute_result"
    }
   ],
   "source": [
    "li = [4,5,5,6,5]\n",
    "\n",
    "li.index(5,-3,)"
   ]
  },
  {
   "cell_type": "markdown",
   "id": "dd22fe78",
   "metadata": {},
   "source": [
    "### Remove all elements from list"
   ]
  },
  {
   "cell_type": "code",
   "execution_count": 73,
   "id": "8f19834c",
   "metadata": {},
   "outputs": [],
   "source": [
    "li =[1,2,4,5,4,32,12]\n",
    "del li"
   ]
  },
  {
   "cell_type": "code",
   "execution_count": 75,
   "id": "d9c8ad88",
   "metadata": {},
   "outputs": [
    {
     "ename": "NameError",
     "evalue": "name 'li' is not defined",
     "output_type": "error",
     "traceback": [
      "\u001b[1;31m---------------------------------------------------------------------------\u001b[0m",
      "\u001b[1;31mNameError\u001b[0m                                 Traceback (most recent call last)",
      "\u001b[1;32m~\\AppData\\Local\\Temp/ipykernel_11100/3367430741.py\u001b[0m in \u001b[0;36m<module>\u001b[1;34m\u001b[0m\n\u001b[1;32m----> 1\u001b[1;33m \u001b[0mprint\u001b[0m\u001b[1;33m(\u001b[0m\u001b[0mli\u001b[0m\u001b[1;33m)\u001b[0m\u001b[1;33m\u001b[0m\u001b[1;33m\u001b[0m\u001b[0m\n\u001b[0m",
      "\u001b[1;31mNameError\u001b[0m: name 'li' is not defined"
     ]
    }
   ],
   "source": [
    "print(li)"
   ]
  },
  {
   "cell_type": "code",
   "execution_count": 76,
   "id": "d48d23a1",
   "metadata": {},
   "outputs": [],
   "source": [
    "li =[1,2,4,5,4,32,12]"
   ]
  },
  {
   "cell_type": "code",
   "execution_count": 77,
   "id": "20a24509",
   "metadata": {},
   "outputs": [],
   "source": [
    "li.clear()"
   ]
  },
  {
   "cell_type": "code",
   "execution_count": 78,
   "id": "77fd7be4",
   "metadata": {},
   "outputs": [
    {
     "name": "stdout",
     "output_type": "stream",
     "text": [
      "[]\n"
     ]
    }
   ],
   "source": [
    "print(li) #by clear structure remains but list becomes emoty"
   ]
  },
  {
   "cell_type": "markdown",
   "id": "df66fd64",
   "metadata": {},
   "source": [
    "### Iterate over both the values in a list and their indices"
   ]
  },
  {
   "cell_type": "code",
   "execution_count": 84,
   "id": "2ef0f185",
   "metadata": {},
   "outputs": [
    {
     "name": "stdout",
     "output_type": "stream",
     "text": [
      "(0, 1)\n",
      "key is 0 and value is 1\n",
      "(1, 2)\n",
      "key is 1 and value is 2\n",
      "(2, 4)\n",
      "key is 2 and value is 4\n",
      "(3, 5)\n",
      "key is 3 and value is 5\n",
      "(4, 4)\n",
      "key is 4 and value is 4\n",
      "(5, 32)\n",
      "key is 5 and value is 32\n",
      "(6, 12)\n",
      "key is 6 and value is 12\n"
     ]
    }
   ],
   "source": [
    "li =[1,2,4,5,4,32,12]\n",
    "\n",
    "for i in enumerate(li):\n",
    "    print(i)\n",
    "    key,value = i\n",
    "    print(f'key is {key} and value is {value}')"
   ]
  },
  {
   "cell_type": "markdown",
   "id": "1df0723f",
   "metadata": {},
   "source": [
    "### Concatenate 2 list"
   ]
  },
  {
   "cell_type": "code",
   "execution_count": 85,
   "id": "9e175e56",
   "metadata": {},
   "outputs": [],
   "source": [
    "li1 = [1,2,3]\n",
    "li2 = [4,5,6]"
   ]
  },
  {
   "cell_type": "code",
   "execution_count": 86,
   "id": "eac0d0f3",
   "metadata": {},
   "outputs": [
    {
     "data": {
      "text/plain": [
       "[1, 2, 3, 4, 5, 6]"
      ]
     },
     "execution_count": 86,
     "metadata": {},
     "output_type": "execute_result"
    }
   ],
   "source": [
    "li1+li2"
   ]
  },
  {
   "cell_type": "markdown",
   "id": "1585ee47",
   "metadata": {},
   "source": [
    "### How to manipulate every element in a list with list comprehension"
   ]
  },
  {
   "cell_type": "code",
   "execution_count": 87,
   "id": "d7195b93",
   "metadata": {},
   "outputs": [],
   "source": [
    "li = [3,4,5,6]"
   ]
  },
  {
   "cell_type": "code",
   "execution_count": 92,
   "id": "e8c0070b",
   "metadata": {},
   "outputs": [
    {
     "data": {
      "text/plain": [
       "[4, 5, 6, 7]"
      ]
     },
     "execution_count": 92,
     "metadata": {},
     "output_type": "execute_result"
    }
   ],
   "source": [
    "[i+1 for i in li]"
   ]
  },
  {
   "cell_type": "markdown",
   "id": "855c61e3",
   "metadata": {},
   "source": [
    "### Count the occurrence of a specific object in a list"
   ]
  },
  {
   "cell_type": "code",
   "execution_count": 95,
   "id": "fb8e2991",
   "metadata": {},
   "outputs": [],
   "source": [
    "li = [3,4,4,6,5,6,6,7,6]"
   ]
  },
  {
   "cell_type": "code",
   "execution_count": 96,
   "id": "3d4dcb92",
   "metadata": {},
   "outputs": [
    {
     "data": {
      "text/plain": [
       "2"
      ]
     },
     "execution_count": 96,
     "metadata": {},
     "output_type": "execute_result"
    }
   ],
   "source": [
    "li.count(4)"
   ]
  },
  {
   "cell_type": "code",
   "execution_count": 97,
   "id": "2f58cae9",
   "metadata": {},
   "outputs": [
    {
     "data": {
      "text/plain": [
       "4"
      ]
     },
     "execution_count": 97,
     "metadata": {},
     "output_type": "execute_result"
    }
   ],
   "source": [
    "li.count(6)"
   ]
  },
  {
   "cell_type": "code",
   "execution_count": 98,
   "id": "854810ec",
   "metadata": {
    "collapsed": true
   },
   "outputs": [
    {
     "data": {
      "text/plain": [
       "2"
      ]
     },
     "execution_count": 98,
     "metadata": {},
     "output_type": "execute_result"
    }
   ],
   "source": [
    "pets = ['dog','cat','fish','fish','cat']\n",
    "pets.count('fish')"
   ]
  },
  {
   "cell_type": "markdown",
   "id": "2f925570",
   "metadata": {},
   "source": [
    "### How to shallow copy a list?"
   ]
  },
  {
   "cell_type": "code",
   "execution_count": 101,
   "id": "20eb1d5e",
   "metadata": {},
   "outputs": [
    {
     "name": "stdout",
     "output_type": "stream",
     "text": [
      "['chuck norris', 'bruce lee'] after removal with shallow copy ['chuck norris', 'bruce lee', 'sonny chiba']\n"
     ]
    }
   ],
   "source": [
    "round1 = ['chuck norris', 'bruce lee', 'sonny chiba']\n",
    "\n",
    "round2 = round1.copy()\n",
    "\n",
    "round1.remove('sonny chiba')\n",
    "\n",
    "print(f'{round1} after removal with shallow copy {round2}')"
   ]
  },
  {
   "cell_type": "markdown",
   "id": "48afb570",
   "metadata": {},
   "source": [
    "### Why create a shallow copy of a list?"
   ]
  },
  {
   "cell_type": "code",
   "execution_count": 102,
   "id": "3d03e54d",
   "metadata": {},
   "outputs": [
    {
     "name": "stdout",
     "output_type": "stream",
     "text": [
      "['chuck norris', 'bruce lee'] after removal without shallow copy ['chuck norris', 'bruce lee']\n"
     ]
    }
   ],
   "source": [
    "round1 = ['chuck norris', 'bruce lee', 'sonny chiba']\n",
    "\n",
    "round2 = round1\n",
    "\n",
    "round1.remove('sonny chiba')\n",
    "\n",
    "print(f'{round1} after removal without shallow copy {round2}')"
   ]
  },
  {
   "cell_type": "markdown",
   "id": "0f7e4a9b",
   "metadata": {},
   "source": [
    "### How to deep copy a list?"
   ]
  },
  {
   "cell_type": "code",
   "execution_count": 103,
   "id": "773158c8",
   "metadata": {},
   "outputs": [
    {
     "name": "stdout",
     "output_type": "stream",
     "text": [
      "[3, 4, 5, 6, 4, 5] after insertion with deep copy ['prajna', 4, 5, 6, 4, 5]\n"
     ]
    }
   ],
   "source": [
    "li = [3,4,5,6,4,5]\n",
    "\n",
    "li1 = copy.deepcopy(li)\n",
    "\n",
    "li1[0] = 'prajna'\n",
    "\n",
    "\n",
    "print(f'{li} after insertion with deep copy {li1}')"
   ]
  },
  {
   "cell_type": "markdown",
   "id": "c7df589a",
   "metadata": {},
   "source": [
    "### Difference Between Shallow Copy and Deep Copy"
   ]
  },
  {
   "cell_type": "code",
   "execution_count": 106,
   "id": "cec3afae",
   "metadata": {},
   "outputs": [
    {
     "name": "stdout",
     "output_type": "stream",
     "text": [
      "[['Jet Lee', 'Sylvester', 'Jean Claude'], ['Buttercup', 'Bubbles', 'Blossom']]\n",
      "[['Jet Lee', 'Sylvester', 'Jean Claude'], ['Buttercup', 'Bubbles', 'Blossom']]\n"
     ]
    }
   ],
   "source": [
    "round1 = [\n",
    "    ['Arnold', 'Sylvester', 'Jean Claude'],\n",
    "    ['Buttercup', 'Bubbles', 'Blossom']\n",
    "]\n",
    "import copy\n",
    "round2 = round1.copy()\n",
    "round2[0][0] = 'Jet Lee'\n",
    "print(round1)\n",
    "print(round2)"
   ]
  },
  {
   "cell_type": "code",
   "execution_count": 108,
   "id": "9aab5612",
   "metadata": {},
   "outputs": [
    {
     "name": "stdout",
     "output_type": "stream",
     "text": [
      "[['Arnold', 'Sylvester', 'Jean Claude'], ['Buttercup', 'Bubbles', 'Blossom']]\n",
      "[['Jet Lee', 'Sylvester', 'Jean Claude'], ['Buttercup', 'Bubbles', 'Blossom']]\n"
     ]
    }
   ],
   "source": [
    "round1 = [\n",
    "    ['Arnold', 'Sylvester', 'Jean Claude'],\n",
    "    ['Buttercup', 'Bubbles', 'Blossom']\n",
    "]\n",
    "import copy\n",
    "round2 = copy.deepcopy(round1)\n",
    "round2[0][0] = 'Jet Lee'\n",
    "print(round1)\n",
    "print(round2)"
   ]
  },
  {
   "cell_type": "markdown",
   "id": "2b7495ba",
   "metadata": {},
   "source": [
    "### Return length of list"
   ]
  },
  {
   "cell_type": "code",
   "execution_count": 109,
   "id": "009b6278",
   "metadata": {},
   "outputs": [],
   "source": [
    "li =['praj',4,5,6,'eka']"
   ]
  },
  {
   "cell_type": "code",
   "execution_count": 111,
   "id": "7aa03d82",
   "metadata": {},
   "outputs": [
    {
     "data": {
      "text/plain": [
       "5"
      ]
     },
     "execution_count": 111,
     "metadata": {},
     "output_type": "execute_result"
    }
   ],
   "source": [
    "len(li)"
   ]
  },
  {
   "cell_type": "markdown",
   "id": "32868c5c",
   "metadata": {},
   "source": [
    "### How to check if an element is not in a list?"
   ]
  },
  {
   "cell_type": "code",
   "execution_count": 113,
   "id": "4e7b5ac0",
   "metadata": {},
   "outputs": [
    {
     "data": {
      "text/plain": [
       "False"
      ]
     },
     "execution_count": 113,
     "metadata": {},
     "output_type": "execute_result"
    }
   ],
   "source": [
    "'eka' not in li"
   ]
  },
  {
   "cell_type": "code",
   "execution_count": 114,
   "id": "cbcd5f99",
   "metadata": {},
   "outputs": [
    {
     "data": {
      "text/plain": [
       "True"
      ]
     },
     "execution_count": 114,
     "metadata": {},
     "output_type": "execute_result"
    }
   ],
   "source": [
    "'prat' not in li"
   ]
  },
  {
   "cell_type": "markdown",
   "id": "203f16a0",
   "metadata": {},
   "source": [
    "### Multiply every element in a list by 5 with the map function"
   ]
  },
  {
   "cell_type": "code",
   "execution_count": 123,
   "id": "f41bfe50",
   "metadata": {},
   "outputs": [
    {
     "data": {
      "text/plain": [
       "[20, 15, 25, 35, 'prajprajprajprajpraj']"
      ]
     },
     "execution_count": 123,
     "metadata": {},
     "output_type": "execute_result"
    }
   ],
   "source": [
    "li = [4,3,5,7,'praj']\n",
    "\n",
    "[val for val in map(lambda x:x*5,li)]"
   ]
  },
  {
   "cell_type": "markdown",
   "id": "8e02b579",
   "metadata": {},
   "source": [
    "### Combine 2 lists into a list of tuples with the zip function"
   ]
  },
  {
   "cell_type": "code",
   "execution_count": 125,
   "id": "eb9c23ac",
   "metadata": {},
   "outputs": [
    {
     "name": "stdout",
     "output_type": "stream",
     "text": [
      "(1, 4)\n",
      "(2, 5)\n",
      "(3, 6)\n"
     ]
    }
   ],
   "source": [
    "li1 = [1,2,3]\n",
    "li2 = [4,5,6]\n",
    "\n",
    "for i in zip(li1,li2):\n",
    "    print(i)"
   ]
  },
  {
   "cell_type": "code",
   "execution_count": 126,
   "id": "c25a4b30",
   "metadata": {},
   "outputs": [
    {
     "data": {
      "text/plain": [
       "[(1, 4), (2, 5), (3, 6)]"
      ]
     },
     "execution_count": 126,
     "metadata": {},
     "output_type": "execute_result"
    }
   ],
   "source": [
    "list(zip(li1,li2))"
   ]
  },
  {
   "cell_type": "markdown",
   "id": "b510a003",
   "metadata": {},
   "source": [
    "### Insert a value at a specific index in an existing list"
   ]
  },
  {
   "cell_type": "code",
   "execution_count": 127,
   "id": "212fd56d",
   "metadata": {},
   "outputs": [
    {
     "data": {
      "text/plain": [
       "[1, 2, 3]"
      ]
     },
     "execution_count": 127,
     "metadata": {},
     "output_type": "execute_result"
    }
   ],
   "source": [
    "li1"
   ]
  },
  {
   "cell_type": "code",
   "execution_count": 130,
   "id": "ee44d5a7",
   "metadata": {},
   "outputs": [],
   "source": [
    "li1.insert(3,5)"
   ]
  },
  {
   "cell_type": "code",
   "execution_count": 131,
   "id": "f527835f",
   "metadata": {},
   "outputs": [
    {
     "data": {
      "text/plain": [
       "[1, 2, 3, 5]"
      ]
     },
     "execution_count": 131,
     "metadata": {},
     "output_type": "execute_result"
    }
   ],
   "source": [
    "li1"
   ]
  },
  {
   "cell_type": "code",
   "execution_count": 132,
   "id": "feaabbc9",
   "metadata": {},
   "outputs": [],
   "source": [
    "li1.insert(1,0)"
   ]
  },
  {
   "cell_type": "code",
   "execution_count": 133,
   "id": "ab6113d2",
   "metadata": {},
   "outputs": [
    {
     "data": {
      "text/plain": [
       "[1, 0, 2, 3, 5]"
      ]
     },
     "execution_count": 133,
     "metadata": {},
     "output_type": "execute_result"
    }
   ],
   "source": [
    "li1"
   ]
  },
  {
   "cell_type": "markdown",
   "id": "08dc99b1",
   "metadata": {},
   "source": [
    "### Subtract values in a list from the first element with the reduce function"
   ]
  },
  {
   "cell_type": "code",
   "execution_count": 142,
   "id": "580b4010",
   "metadata": {},
   "outputs": [
    {
     "data": {
      "text/plain": [
       "70"
      ]
     },
     "execution_count": 142,
     "metadata": {},
     "output_type": "execute_result"
    }
   ],
   "source": [
    "from functools import reduce\n",
    "def subtract(a,b):\n",
    "    return a - b\n",
    "numbers = [100,10,5,1,2,7,5]\n",
    "reduce(subtract, numbers) "
   ]
  },
  {
   "cell_type": "code",
   "execution_count": 143,
   "id": "4d3139ba",
   "metadata": {},
   "outputs": [
    {
     "data": {
      "text/plain": [
       "70"
      ]
     },
     "execution_count": 143,
     "metadata": {},
     "output_type": "execute_result"
    }
   ],
   "source": [
    "reduce(lambda a,b:a-b,numbers)"
   ]
  },
  {
   "cell_type": "markdown",
   "id": "108e806e",
   "metadata": {},
   "source": [
    "### Remove Negative Values from list"
   ]
  },
  {
   "cell_type": "code",
   "execution_count": 146,
   "id": "141cb004",
   "metadata": {},
   "outputs": [
    {
     "data": {
      "text/plain": [
       "[27, 1000, 0]"
      ]
     },
     "execution_count": 146,
     "metadata": {},
     "output_type": "execute_result"
    }
   ],
   "source": [
    "a = [-10, 27, 1000, -1, 0, -30]\n",
    "\n",
    "[val for val in filter(lambda x:x>=0,a)]"
   ]
  },
  {
   "cell_type": "markdown",
   "id": "ddc78774",
   "metadata": {},
   "source": [
    "### Convert a list into a dictionary where list elements are keys"
   ]
  },
  {
   "cell_type": "code",
   "execution_count": 153,
   "id": "4c40dbc3",
   "metadata": {},
   "outputs": [
    {
     "data": {
      "text/plain": [
       "{'The': 1, 'quick': 1, 'brown': 1, 'fox': 1, 'was': 1}"
      ]
     },
     "execution_count": 153,
     "metadata": {},
     "output_type": "execute_result"
    }
   ],
   "source": [
    "li = ['The', 'quick', 'brown', 'fox', 'was', 'quick']\n",
    "\n",
    "{i:1 for i in li}"
   ]
  },
  {
   "cell_type": "code",
   "execution_count": 156,
   "id": "a3a2851e",
   "metadata": {},
   "outputs": [
    {
     "data": {
      "text/plain": [
       "{0: 'The', 1: 'quick', 2: 'brown', 3: 'fox', 4: 'was', 5: 'quick'}"
      ]
     },
     "execution_count": 156,
     "metadata": {},
     "output_type": "execute_result"
    }
   ],
   "source": [
    "{i[0]:i[1] for i in enumerate(li)}"
   ]
  },
  {
   "cell_type": "code",
   "execution_count": 157,
   "id": "d42ced00",
   "metadata": {},
   "outputs": [
    {
     "data": {
      "text/plain": [
       "{'The': 1, 'quick': 2, 'brown': 1, 'fox': 1, 'was': 1}"
      ]
     },
     "execution_count": 157,
     "metadata": {},
     "output_type": "execute_result"
    }
   ],
   "source": [
    "{i:li.count(i) for i in li}"
   ]
  },
  {
   "cell_type": "markdown",
   "id": "9e9b9357",
   "metadata": {},
   "source": [
    "### Modify an existing list with a lambda function"
   ]
  },
  {
   "cell_type": "code",
   "execution_count": 1,
   "id": "d2ec623d",
   "metadata": {},
   "outputs": [],
   "source": [
    "a = [10,20,30,40,50]"
   ]
  },
  {
   "cell_type": "code",
   "execution_count": 6,
   "id": "23191cb0",
   "metadata": {},
   "outputs": [
    {
     "data": {
      "text/plain": [
       "[50, 100, 150, 200, 250]"
      ]
     },
     "execution_count": 6,
     "metadata": {},
     "output_type": "execute_result"
    }
   ],
   "source": [
    "[val * 5 for val in a]"
   ]
  },
  {
   "cell_type": "code",
   "execution_count": 8,
   "id": "b1f962c2",
   "metadata": {},
   "outputs": [
    {
     "data": {
      "text/plain": [
       "[50, 100, 150, 200, 250]"
      ]
     },
     "execution_count": 8,
     "metadata": {},
     "output_type": "execute_result"
    }
   ],
   "source": [
    "list(map(lambda val:val*5,a))"
   ]
  },
  {
   "cell_type": "markdown",
   "id": "67f114f2",
   "metadata": {},
   "source": [
    "### Remove elements in a list after a specific index"
   ]
  },
  {
   "cell_type": "code",
   "execution_count": 9,
   "id": "7b36ab3a",
   "metadata": {},
   "outputs": [],
   "source": [
    "li = [1,2,3,4,5,6,7,8,9,10,11,12,13,14,15,16,17,18,19,10]"
   ]
  },
  {
   "cell_type": "code",
   "execution_count": 10,
   "id": "b632dbb5",
   "metadata": {},
   "outputs": [
    {
     "data": {
      "text/plain": [
       "[1, 2, 3, 4, 5, 6, 7, 8, 9, 10]"
      ]
     },
     "execution_count": 10,
     "metadata": {},
     "output_type": "execute_result"
    }
   ],
   "source": [
    "li[:10]"
   ]
  },
  {
   "cell_type": "markdown",
   "id": "ffc6d7f1",
   "metadata": {},
   "source": [
    "### Return every 2nd element in a list between 2 indices"
   ]
  },
  {
   "cell_type": "code",
   "execution_count": 12,
   "id": "eabf62cc",
   "metadata": {},
   "outputs": [],
   "source": [
    "li = [1,2,3,4,5,6,7,8,9,10]"
   ]
  },
  {
   "cell_type": "code",
   "execution_count": 14,
   "id": "8c1d3e4f",
   "metadata": {},
   "outputs": [
    {
     "data": {
      "text/plain": [
       "[1, 3, 5, 7, 9]"
      ]
     },
     "execution_count": 14,
     "metadata": {},
     "output_type": "execute_result"
    }
   ],
   "source": [
    "li[0::2]"
   ]
  },
  {
   "cell_type": "markdown",
   "id": "362f7e19",
   "metadata": {},
   "source": [
    "### Sort a list in ascending order"
   ]
  },
  {
   "cell_type": "code",
   "execution_count": 15,
   "id": "b8911f79",
   "metadata": {},
   "outputs": [],
   "source": [
    "li = [3,1,4,2,5,7,8,6,0]"
   ]
  },
  {
   "cell_type": "code",
   "execution_count": 16,
   "id": "6703d05d",
   "metadata": {},
   "outputs": [],
   "source": [
    "li.sort()"
   ]
  },
  {
   "cell_type": "code",
   "execution_count": 17,
   "id": "f067df38",
   "metadata": {},
   "outputs": [
    {
     "data": {
      "text/plain": [
       "[0, 1, 2, 3, 4, 5, 6, 7, 8]"
      ]
     },
     "execution_count": 17,
     "metadata": {},
     "output_type": "execute_result"
    }
   ],
   "source": [
    "li"
   ]
  },
  {
   "cell_type": "markdown",
   "id": "f405d767",
   "metadata": {},
   "source": [
    "### Sort a list in descending order"
   ]
  },
  {
   "cell_type": "code",
   "execution_count": 18,
   "id": "e68bd577",
   "metadata": {},
   "outputs": [],
   "source": [
    "li.sort(reverse=True)"
   ]
  },
  {
   "cell_type": "code",
   "execution_count": 19,
   "id": "d395a65d",
   "metadata": {},
   "outputs": [
    {
     "data": {
      "text/plain": [
       "[8, 7, 6, 5, 4, 3, 2, 1, 0]"
      ]
     },
     "execution_count": 19,
     "metadata": {},
     "output_type": "execute_result"
    }
   ],
   "source": [
    "li"
   ]
  },
  {
   "cell_type": "markdown",
   "id": "3ae7a374",
   "metadata": {},
   "source": [
    "### Filter even values out of a list with list comprehension"
   ]
  },
  {
   "cell_type": "code",
   "execution_count": 20,
   "id": "5a876b8e",
   "metadata": {},
   "outputs": [],
   "source": [
    "li = [1,2,3,4,5,6,7,8,9,10,11,12]"
   ]
  },
  {
   "cell_type": "code",
   "execution_count": 28,
   "id": "184ba4a6",
   "metadata": {},
   "outputs": [
    {
     "data": {
      "text/plain": [
       "[1, 3, 5, 7, 9, 11]"
      ]
     },
     "execution_count": 28,
     "metadata": {},
     "output_type": "execute_result"
    }
   ],
   "source": [
    "[i for i in li if i%2 != 0]"
   ]
  },
  {
   "cell_type": "markdown",
   "id": "c441e025",
   "metadata": {},
   "source": [
    "### Count occurrences of each value in a list"
   ]
  },
  {
   "cell_type": "code",
   "execution_count": 29,
   "id": "9e488cb8",
   "metadata": {},
   "outputs": [],
   "source": [
    "li = [2,3,4,5,3,3,4,3,5,2,6]"
   ]
  },
  {
   "cell_type": "code",
   "execution_count": 35,
   "id": "051ef0e8",
   "metadata": {},
   "outputs": [
    {
     "data": {
      "text/plain": [
       "Counter({2: 2, 3: 4, 4: 2, 5: 2, 6: 1})"
      ]
     },
     "execution_count": 35,
     "metadata": {},
     "output_type": "execute_result"
    }
   ],
   "source": [
    "from collections import Counter\n",
    "\n",
    "Counter(li)"
   ]
  },
  {
   "cell_type": "code",
   "execution_count": 36,
   "id": "574db213",
   "metadata": {},
   "outputs": [
    {
     "data": {
      "text/plain": [
       "{2: 2, 3: 4, 4: 2, 5: 2, 6: 1}"
      ]
     },
     "execution_count": 36,
     "metadata": {},
     "output_type": "execute_result"
    }
   ],
   "source": [
    "{i: li.count(i) for i in li}"
   ]
  },
  {
   "cell_type": "markdown",
   "id": "2888cdc2",
   "metadata": {},
   "source": [
    "### Get the first element from each nested list in a list"
   ]
  },
  {
   "cell_type": "code",
   "execution_count": 37,
   "id": "72ca21f0",
   "metadata": {},
   "outputs": [],
   "source": [
    "li = [[1,2,3],[4,5,6],[7,8,9],[10,11,12],[13,14,15]]"
   ]
  },
  {
   "cell_type": "code",
   "execution_count": 39,
   "id": "bbc5fc01",
   "metadata": {},
   "outputs": [
    {
     "name": "stdout",
     "output_type": "stream",
     "text": [
      "1\n",
      "4\n",
      "7\n",
      "10\n",
      "13\n"
     ]
    }
   ],
   "source": [
    "for i in li:\n",
    "    print(i[0])"
   ]
  },
  {
   "cell_type": "code",
   "execution_count": 40,
   "id": "31539cd3",
   "metadata": {},
   "outputs": [
    {
     "data": {
      "text/plain": [
       "[1, 4, 7, 10, 13]"
      ]
     },
     "execution_count": 40,
     "metadata": {},
     "output_type": "execute_result"
    }
   ],
   "source": [
    "[i[0] for i in li]"
   ]
  },
  {
   "cell_type": "markdown",
   "id": "5fcd0c9d",
   "metadata": {},
   "source": [
    "### Combine elements in alist to a single string"
   ]
  },
  {
   "cell_type": "code",
   "execution_count": 41,
   "id": "4ad17d7a",
   "metadata": {},
   "outputs": [],
   "source": [
    "li = ['The','quick','brown', 'fox', 'jumped', 'over', 'the', 'lazy', 'dog']"
   ]
  },
  {
   "cell_type": "code",
   "execution_count": 43,
   "id": "d2cc639d",
   "metadata": {},
   "outputs": [
    {
     "data": {
      "text/plain": [
       "'The quick brown fox jumped over the lazy dog'"
      ]
     },
     "execution_count": 43,
     "metadata": {},
     "output_type": "execute_result"
    }
   ],
   "source": [
    "' '.join(li)"
   ]
  },
  {
   "cell_type": "markdown",
   "id": "79ae3b5e",
   "metadata": {},
   "source": [
    "### What’s the affect of multiplying a list by an integer?"
   ]
  },
  {
   "cell_type": "code",
   "execution_count": 44,
   "id": "22ee4e11",
   "metadata": {},
   "outputs": [],
   "source": [
    "li =[1,2,3,'praj']"
   ]
  },
  {
   "cell_type": "code",
   "execution_count": 46,
   "id": "d4e98811",
   "metadata": {},
   "outputs": [
    {
     "data": {
      "text/plain": [
       "[1, 2, 3, 'praj', 1, 2, 3, 'praj']"
      ]
     },
     "execution_count": 46,
     "metadata": {},
     "output_type": "execute_result"
    }
   ],
   "source": [
    "li * 2"
   ]
  },
  {
   "cell_type": "markdown",
   "id": "41833755",
   "metadata": {},
   "source": [
    "###  Use the “any” function to return True if any value in a list is divisible by 2"
   ]
  },
  {
   "cell_type": "code",
   "execution_count": 47,
   "id": "98e29983",
   "metadata": {},
   "outputs": [],
   "source": [
    "li = [1,2,3,5,6]"
   ]
  },
  {
   "cell_type": "code",
   "execution_count": 51,
   "id": "ab46b743",
   "metadata": {},
   "outputs": [
    {
     "data": {
      "text/plain": [
       "True"
      ]
     },
     "execution_count": 51,
     "metadata": {},
     "output_type": "execute_result"
    }
   ],
   "source": [
    "any(i%2 == 0 for i in li)"
   ]
  },
  {
   "cell_type": "markdown",
   "id": "0d8f8f35",
   "metadata": {},
   "source": [
    "### Use the “all” function to return True if all values in a list are negative"
   ]
  },
  {
   "cell_type": "code",
   "execution_count": 52,
   "id": "59a3972b",
   "metadata": {},
   "outputs": [],
   "source": [
    "li = [-2,-3,-4]"
   ]
  },
  {
   "cell_type": "code",
   "execution_count": 53,
   "id": "196df54b",
   "metadata": {},
   "outputs": [
    {
     "data": {
      "text/plain": [
       "True"
      ]
     },
     "execution_count": 53,
     "metadata": {},
     "output_type": "execute_result"
    }
   ],
   "source": [
    "all(i<0 for i in li)"
   ]
  },
  {
   "cell_type": "code",
   "execution_count": 54,
   "id": "1a194f15",
   "metadata": {},
   "outputs": [],
   "source": [
    "li1= [2,-3,-4,3]"
   ]
  },
  {
   "cell_type": "code",
   "execution_count": 57,
   "id": "addabc35",
   "metadata": {},
   "outputs": [
    {
     "data": {
      "text/plain": [
       "False"
      ]
     },
     "execution_count": 57,
     "metadata": {},
     "output_type": "execute_result"
    }
   ],
   "source": [
    "all(i<0 for i in li1)"
   ]
  },
  {
   "cell_type": "markdown",
   "id": "76ca8f9a",
   "metadata": {},
   "source": [
    "### Can you sort a list with “None” in it?"
   ]
  },
  {
   "cell_type": "code",
   "execution_count": 63,
   "id": "00a60233",
   "metadata": {},
   "outputs": [],
   "source": [
    "li = ['a','def','abc']"
   ]
  },
  {
   "cell_type": "code",
   "execution_count": 64,
   "id": "57ccbbc6",
   "metadata": {},
   "outputs": [],
   "source": [
    "li.sort()"
   ]
  },
  {
   "cell_type": "code",
   "execution_count": 65,
   "id": "c35b4d06",
   "metadata": {},
   "outputs": [
    {
     "data": {
      "text/plain": [
       "['a', 'abc', 'def']"
      ]
     },
     "execution_count": 65,
     "metadata": {},
     "output_type": "execute_result"
    }
   ],
   "source": [
    "li"
   ]
  },
  {
   "cell_type": "code",
   "execution_count": 66,
   "id": "205d985e",
   "metadata": {},
   "outputs": [],
   "source": [
    "li1 = [1,2,None,8,9]"
   ]
  },
  {
   "cell_type": "code",
   "execution_count": 67,
   "id": "77bee29e",
   "metadata": {},
   "outputs": [
    {
     "ename": "TypeError",
     "evalue": "'<' not supported between instances of 'NoneType' and 'int'",
     "output_type": "error",
     "traceback": [
      "\u001b[1;31m---------------------------------------------------------------------------\u001b[0m",
      "\u001b[1;31mTypeError\u001b[0m                                 Traceback (most recent call last)",
      "\u001b[1;32m~\\AppData\\Local\\Temp/ipykernel_17580/4114163378.py\u001b[0m in \u001b[0;36m<module>\u001b[1;34m\u001b[0m\n\u001b[1;32m----> 1\u001b[1;33m \u001b[0mli1\u001b[0m\u001b[1;33m.\u001b[0m\u001b[0msort\u001b[0m\u001b[1;33m(\u001b[0m\u001b[1;33m)\u001b[0m\u001b[1;33m\u001b[0m\u001b[1;33m\u001b[0m\u001b[0m\n\u001b[0m",
      "\u001b[1;31mTypeError\u001b[0m: '<' not supported between instances of 'NoneType' and 'int'"
     ]
    }
   ],
   "source": [
    "li1.sort()"
   ]
  },
  {
   "cell_type": "markdown",
   "id": "3c0d2d8b",
   "metadata": {},
   "source": [
    "#### You cannot sort a list with None in it because comparison operators (used by sort()) can’t compare an integer with None."
   ]
  },
  {
   "cell_type": "markdown",
   "id": "0ce23c69",
   "metadata": {},
   "source": [
    "### What kind of copy would the list constructor create from an existing list?"
   ]
  },
  {
   "cell_type": "code",
   "execution_count": 68,
   "id": "71a26ba6",
   "metadata": {},
   "outputs": [],
   "source": [
    "li1 = ['a','b']\n",
    "li2 = list(li1)\n",
    "li2.append('c')"
   ]
  },
  {
   "cell_type": "code",
   "execution_count": 69,
   "id": "ec244ce0",
   "metadata": {},
   "outputs": [
    {
     "name": "stdout",
     "output_type": "stream",
     "text": [
      "['a', 'b']\n",
      "['a', 'b', 'c']\n"
     ]
    }
   ],
   "source": [
    "print(li1)\n",
    "print(li2)"
   ]
  },
  {
   "cell_type": "markdown",
   "id": "2c8bf2ec",
   "metadata": {},
   "source": [
    "#### By default it is shallow copy"
   ]
  },
  {
   "cell_type": "markdown",
   "id": "f03f5e31",
   "metadata": {},
   "source": [
    "### Reverse the order of a list"
   ]
  },
  {
   "cell_type": "code",
   "execution_count": 76,
   "id": "127c9445",
   "metadata": {},
   "outputs": [],
   "source": [
    "li = [3,4,6,2,1,8,7,5]"
   ]
  },
  {
   "cell_type": "code",
   "execution_count": 77,
   "id": "b45fbaac",
   "metadata": {},
   "outputs": [
    {
     "data": {
      "text/plain": [
       "[5, 7, 8, 1, 2, 6, 4, 3]"
      ]
     },
     "execution_count": 77,
     "metadata": {},
     "output_type": "execute_result"
    }
   ],
   "source": [
    "li[::-1]"
   ]
  },
  {
   "cell_type": "code",
   "execution_count": 78,
   "id": "207295dc",
   "metadata": {},
   "outputs": [
    {
     "data": {
      "text/plain": [
       "[3, 4, 6, 2, 1, 8, 7, 5]"
      ]
     },
     "execution_count": 78,
     "metadata": {},
     "output_type": "execute_result"
    }
   ],
   "source": [
    "li"
   ]
  },
  {
   "cell_type": "code",
   "execution_count": 79,
   "id": "0d46e85a",
   "metadata": {},
   "outputs": [],
   "source": [
    "li.reverse()"
   ]
  },
  {
   "cell_type": "code",
   "execution_count": 80,
   "id": "de13c302",
   "metadata": {},
   "outputs": [
    {
     "data": {
      "text/plain": [
       "[5, 7, 8, 1, 2, 6, 4, 3]"
      ]
     },
     "execution_count": 80,
     "metadata": {},
     "output_type": "execute_result"
    }
   ],
   "source": [
    "li"
   ]
  },
  {
   "cell_type": "markdown",
   "id": "48c50122",
   "metadata": {},
   "source": [
    "### What is the difference between reverse and reversed?"
   ]
  },
  {
   "cell_type": "code",
   "execution_count": 81,
   "id": "605609e1",
   "metadata": {},
   "outputs": [
    {
     "data": {
      "text/plain": [
       "[5, 7, 8, 1, 2, 6, 4, 3]"
      ]
     },
     "execution_count": 81,
     "metadata": {},
     "output_type": "execute_result"
    }
   ],
   "source": [
    "li"
   ]
  },
  {
   "cell_type": "code",
   "execution_count": 82,
   "id": "27cb05b2",
   "metadata": {},
   "outputs": [
    {
     "data": {
      "text/plain": [
       "[3, 4, 6, 2, 1, 8, 7, 5]"
      ]
     },
     "execution_count": 82,
     "metadata": {},
     "output_type": "execute_result"
    }
   ],
   "source": [
    "list(reversed(li))"
   ]
  },
  {
   "cell_type": "markdown",
   "id": "96d6d518",
   "metadata": {},
   "source": [
    "#### reverse reverses list in place and reversed() returns an iterable of the list in reverse order. Similar is the case with sort and sorted."
   ]
  },
  {
   "cell_type": "markdown",
   "id": "850e4792",
   "metadata": {},
   "source": [
    "### Return minimum value in the list"
   ]
  },
  {
   "cell_type": "code",
   "execution_count": 84,
   "id": "bdf74f7e",
   "metadata": {},
   "outputs": [],
   "source": [
    "li = [10,1,9,2,8,3,7,4,6,5]"
   ]
  },
  {
   "cell_type": "code",
   "execution_count": 85,
   "id": "61c8e962",
   "metadata": {},
   "outputs": [
    {
     "data": {
      "text/plain": [
       "1"
      ]
     },
     "execution_count": 85,
     "metadata": {},
     "output_type": "execute_result"
    }
   ],
   "source": [
    "min(li)"
   ]
  },
  {
   "cell_type": "markdown",
   "id": "891edc88",
   "metadata": {},
   "source": [
    "### Return maximum value in list"
   ]
  },
  {
   "cell_type": "code",
   "execution_count": 86,
   "id": "0479da20",
   "metadata": {},
   "outputs": [
    {
     "data": {
      "text/plain": [
       "10"
      ]
     },
     "execution_count": 86,
     "metadata": {},
     "output_type": "execute_result"
    }
   ],
   "source": [
    "max(li)"
   ]
  },
  {
   "cell_type": "markdown",
   "id": "e5ea1162",
   "metadata": {},
   "source": [
    "###  Return the sum of values in a list"
   ]
  },
  {
   "cell_type": "code",
   "execution_count": 87,
   "id": "a68738b6",
   "metadata": {},
   "outputs": [
    {
     "data": {
      "text/plain": [
       "55"
      ]
     },
     "execution_count": 87,
     "metadata": {},
     "output_type": "execute_result"
    }
   ],
   "source": [
    "sum(li)"
   ]
  },
  {
   "cell_type": "markdown",
   "id": "a5b33ffc",
   "metadata": {},
   "source": [
    "### Use a list as a stack"
   ]
  },
  {
   "cell_type": "code",
   "execution_count": 89,
   "id": "8f06fb06",
   "metadata": {},
   "outputs": [],
   "source": [
    "stack = []\n",
    "\n",
    "stack.append('Praj')\n",
    "stack.append('Eka')\n",
    "stack.append('Prath')\n",
    "stack.append('Prema')\n",
    "stack.append('Prasad')"
   ]
  },
  {
   "cell_type": "code",
   "execution_count": 90,
   "id": "2e71e608",
   "metadata": {},
   "outputs": [
    {
     "data": {
      "text/plain": [
       "['Praj', 'Eka', 'Prath', 'Prema', 'Prasad']"
      ]
     },
     "execution_count": 90,
     "metadata": {},
     "output_type": "execute_result"
    }
   ],
   "source": [
    "stack"
   ]
  },
  {
   "cell_type": "code",
   "execution_count": 91,
   "id": "065812b9",
   "metadata": {},
   "outputs": [
    {
     "data": {
      "text/plain": [
       "'Prasad'"
      ]
     },
     "execution_count": 91,
     "metadata": {},
     "output_type": "execute_result"
    }
   ],
   "source": [
    "stack.pop(-1)"
   ]
  },
  {
   "cell_type": "code",
   "execution_count": 92,
   "id": "d7f8aee2",
   "metadata": {},
   "outputs": [
    {
     "data": {
      "text/plain": [
       "'Prema'"
      ]
     },
     "execution_count": 92,
     "metadata": {},
     "output_type": "execute_result"
    }
   ],
   "source": [
    "stack.pop()"
   ]
  },
  {
   "cell_type": "code",
   "execution_count": 93,
   "id": "7fce9d7c",
   "metadata": {},
   "outputs": [
    {
     "data": {
      "text/plain": [
       "['Praj', 'Eka', 'Prath']"
      ]
     },
     "execution_count": 93,
     "metadata": {},
     "output_type": "execute_result"
    }
   ],
   "source": [
    "stack"
   ]
  },
  {
   "cell_type": "markdown",
   "id": "6773a58e",
   "metadata": {},
   "source": [
    "###  Find the intersection of 2 lists"
   ]
  },
  {
   "cell_type": "code",
   "execution_count": 94,
   "id": "61d1b922",
   "metadata": {},
   "outputs": [],
   "source": [
    "li1 = [1,2,3]\n",
    "li2 = [2,3,4]"
   ]
  },
  {
   "cell_type": "code",
   "execution_count": 98,
   "id": "7f28ab5f",
   "metadata": {},
   "outputs": [
    {
     "data": {
      "text/plain": [
       "{2, 3}"
      ]
     },
     "execution_count": 98,
     "metadata": {},
     "output_type": "execute_result"
    }
   ],
   "source": [
    "set(li1) & set(li2)"
   ]
  },
  {
   "cell_type": "code",
   "execution_count": 99,
   "id": "e6f0d3bf",
   "metadata": {},
   "outputs": [],
   "source": [
    "li3 = set(li1) & set(li2)"
   ]
  },
  {
   "cell_type": "code",
   "execution_count": 100,
   "id": "6d978b9a",
   "metadata": {},
   "outputs": [],
   "source": [
    "li4 = (set(li1) | set(li2) )-li3"
   ]
  },
  {
   "cell_type": "code",
   "execution_count": 102,
   "id": "2610c85e",
   "metadata": {},
   "outputs": [
    {
     "data": {
      "text/plain": [
       "[1, 4]"
      ]
     },
     "execution_count": 102,
     "metadata": {},
     "output_type": "execute_result"
    }
   ],
   "source": [
    "list(li4)"
   ]
  },
  {
   "cell_type": "markdown",
   "id": "d33b46a0",
   "metadata": {},
   "source": [
    "### Find the difference between a set and another set"
   ]
  },
  {
   "cell_type": "code",
   "execution_count": 107,
   "id": "3fdb1201",
   "metadata": {},
   "outputs": [
    {
     "data": {
      "text/plain": [
       "{1}"
      ]
     },
     "execution_count": 107,
     "metadata": {},
     "output_type": "execute_result"
    }
   ],
   "source": [
    "set(li1) - set(li2)"
   ]
  },
  {
   "cell_type": "code",
   "execution_count": 108,
   "id": "0b574819",
   "metadata": {},
   "outputs": [
    {
     "data": {
      "text/plain": [
       "{4}"
      ]
     },
     "execution_count": 108,
     "metadata": {},
     "output_type": "execute_result"
    }
   ],
   "source": [
    "set(li2)-set(li1)"
   ]
  },
  {
   "cell_type": "markdown",
   "id": "a47e617b",
   "metadata": {},
   "source": [
    "### Flatten a list of lists with a list comprehensions"
   ]
  },
  {
   "cell_type": "code",
   "execution_count": 109,
   "id": "4270d97b",
   "metadata": {},
   "outputs": [],
   "source": [
    "li = [[1,2,3],[4,5,6]]"
   ]
  },
  {
   "cell_type": "code",
   "execution_count": 116,
   "id": "8f16e470",
   "metadata": {},
   "outputs": [
    {
     "name": "stdout",
     "output_type": "stream",
     "text": [
      "1\n",
      "2\n",
      "3\n",
      "4\n",
      "5\n",
      "6\n"
     ]
    }
   ],
   "source": [
    "for i in li :\n",
    "    for j in i:\n",
    "        print(j)"
   ]
  },
  {
   "cell_type": "code",
   "execution_count": 117,
   "id": "7d00bd10",
   "metadata": {},
   "outputs": [
    {
     "data": {
      "text/plain": [
       "[1, 2, 3, 4, 5, 6]"
      ]
     },
     "execution_count": 117,
     "metadata": {},
     "output_type": "execute_result"
    }
   ],
   "source": [
    "[j for i in li for j in i]"
   ]
  },
  {
   "cell_type": "markdown",
   "id": "73e4bc6c",
   "metadata": {},
   "source": [
    "### Generate a list of every integer between 2 values"
   ]
  },
  {
   "cell_type": "code",
   "execution_count": 118,
   "id": "226460e6",
   "metadata": {},
   "outputs": [
    {
     "data": {
      "text/plain": [
       "[5, 6, 7, 8, 9]"
      ]
     },
     "execution_count": 118,
     "metadata": {},
     "output_type": "execute_result"
    }
   ],
   "source": [
    "list(range(5,10))"
   ]
  },
  {
   "cell_type": "markdown",
   "id": "0cc25e53",
   "metadata": {},
   "source": [
    "### Combine 2 lists into a dictionary"
   ]
  },
  {
   "cell_type": "code",
   "execution_count": 119,
   "id": "fc248a8a",
   "metadata": {},
   "outputs": [],
   "source": [
    "name = ['Snowball', 'Chewy', 'Bubbles', 'Gruff']\n",
    "animal = ['Cat', 'Dog', 'Fish', 'Goat']"
   ]
  },
  {
   "cell_type": "code",
   "execution_count": 121,
   "id": "2c9449f7",
   "metadata": {},
   "outputs": [
    {
     "data": {
      "text/plain": [
       "{'Snowball': 'Cat', 'Chewy': 'Dog', 'Bubbles': 'Fish', 'Gruff': 'Goat'}"
      ]
     },
     "execution_count": 121,
     "metadata": {},
     "output_type": "execute_result"
    }
   ],
   "source": [
    "dict(zip(name,animal))"
   ]
  }
 ],
 "metadata": {
  "kernelspec": {
   "display_name": "Python 3 (ipykernel)",
   "language": "python",
   "name": "python3"
  },
  "language_info": {
   "codemirror_mode": {
    "name": "ipython",
    "version": 3
   },
   "file_extension": ".py",
   "mimetype": "text/x-python",
   "name": "python",
   "nbconvert_exporter": "python",
   "pygments_lexer": "ipython3",
   "version": "3.9.7"
  }
 },
 "nbformat": 4,
 "nbformat_minor": 5
}
